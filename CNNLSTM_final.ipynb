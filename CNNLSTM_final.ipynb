{
  "cells": [
    {
      "cell_type": "markdown",
      "id": "a6e118e3",
      "metadata": {
        "id": "a6e118e3"
      },
      "source": [
        "# CNN-LSTM Hybrid Model\n",
        "\n",
        "Our base model is the CNN-LSTM Hybrid Model. The purpose of this model is to capture the spatial features from the input data in the CNN layers and to capture temporal dependencies in the LSTM layers.\n",
        "\n",
        "\n",
        "\n"
      ]
    },
    {
      "cell_type": "markdown",
      "source": [
        "## 1. Packages and Data Import\n",
        "1. Packages\n",
        "  - We use the Keras Sequential high level API to build the model.\n",
        "  - Pandas is used for dataframe organization and preprocessing for padding. Keras is also used for the padding.\n",
        "  -  sklearn.preprocessing is used for min-max scaling.\n",
        "  - sklearn.metrics is used for performance metric computation.\n",
        "  - matplotlib.pyplot is used for various graphs throughout.\n",
        "  - numpy is also used for numerical computations.\n",
        "\n",
        "2. Data used\n",
        "  - The original data is taken directly from the Data Organization script which includes imputation, feature engineering, feature selection, train/test split, SMOTE, and anomaly detection."
      ],
      "metadata": {
        "id": "O8R6Yb4vA1XS"
      },
      "id": "O8R6Yb4vA1XS"
    },
    {
      "cell_type": "code",
      "execution_count": 2,
      "id": "7f92cd2f",
      "metadata": {
        "id": "7f92cd2f"
      },
      "outputs": [],
      "source": [
        "\n",
        "import pandas as pd\n",
        "import numpy as np\n",
        "from sklearn.preprocessing import StandardScaler, MinMaxScaler\n",
        "import tensorflow as tf\n",
        "from tensorflow.keras.models import Sequential\n",
        "from tensorflow.keras.layers import Conv1D, MaxPooling1D, LSTM, Dense, Flatten, TimeDistributed, Reshape, Dropout, Dense, BatchNormalization, Bidirectional\n",
        "from tensorflow.keras.preprocessing.sequence import pad_sequences\n",
        "from sklearn.metrics import f1_score, accuracy_score, precision_score, recall_score, confusion_matrix, roc_curve, auc, precision_recall_curve\n",
        "from tensorflow.keras.optimizers import Adam\n",
        "from tensorflow.keras.callbacks import EarlyStopping, ReduceLROnPlateau\n",
        "from tensorflow.keras.layers import Masking\n",
        "import matplotlib.pyplot as plt\n",
        "from tensorflow.keras.utils import plot_model\n"
      ]
    },
    {
      "cell_type": "code",
      "execution_count": 3,
      "id": "1c4ef78b",
      "metadata": {
        "colab": {
          "base_uri": "https://localhost:8080/",
          "height": 59
        },
        "id": "1c4ef78b",
        "outputId": "ffc4a775-0bc4-4953-9449-5770976d696d"
      },
      "outputs": [
        {
          "output_type": "display_data",
          "data": {
            "text/plain": [
              "<IPython.core.display.HTML object>"
            ],
            "text/html": [
              "\n",
              "     <input type=\"file\" id=\"files-5c71b0e0-63f8-4a9d-bf14-53cbc990cb0a\" name=\"files[]\" multiple disabled\n",
              "        style=\"border:none\" />\n",
              "     <output id=\"result-5c71b0e0-63f8-4a9d-bf14-53cbc990cb0a\">\n",
              "      Upload widget is only available when the cell has been executed in the\n",
              "      current browser session. Please rerun this cell to enable.\n",
              "      </output>\n",
              "      <script>// Copyright 2017 Google LLC\n",
              "//\n",
              "// Licensed under the Apache License, Version 2.0 (the \"License\");\n",
              "// you may not use this file except in compliance with the License.\n",
              "// You may obtain a copy of the License at\n",
              "//\n",
              "//      http://www.apache.org/licenses/LICENSE-2.0\n",
              "//\n",
              "// Unless required by applicable law or agreed to in writing, software\n",
              "// distributed under the License is distributed on an \"AS IS\" BASIS,\n",
              "// WITHOUT WARRANTIES OR CONDITIONS OF ANY KIND, either express or implied.\n",
              "// See the License for the specific language governing permissions and\n",
              "// limitations under the License.\n",
              "\n",
              "/**\n",
              " * @fileoverview Helpers for google.colab Python module.\n",
              " */\n",
              "(function(scope) {\n",
              "function span(text, styleAttributes = {}) {\n",
              "  const element = document.createElement('span');\n",
              "  element.textContent = text;\n",
              "  for (const key of Object.keys(styleAttributes)) {\n",
              "    element.style[key] = styleAttributes[key];\n",
              "  }\n",
              "  return element;\n",
              "}\n",
              "\n",
              "// Max number of bytes which will be uploaded at a time.\n",
              "const MAX_PAYLOAD_SIZE = 100 * 1024;\n",
              "\n",
              "function _uploadFiles(inputId, outputId) {\n",
              "  const steps = uploadFilesStep(inputId, outputId);\n",
              "  const outputElement = document.getElementById(outputId);\n",
              "  // Cache steps on the outputElement to make it available for the next call\n",
              "  // to uploadFilesContinue from Python.\n",
              "  outputElement.steps = steps;\n",
              "\n",
              "  return _uploadFilesContinue(outputId);\n",
              "}\n",
              "\n",
              "// This is roughly an async generator (not supported in the browser yet),\n",
              "// where there are multiple asynchronous steps and the Python side is going\n",
              "// to poll for completion of each step.\n",
              "// This uses a Promise to block the python side on completion of each step,\n",
              "// then passes the result of the previous step as the input to the next step.\n",
              "function _uploadFilesContinue(outputId) {\n",
              "  const outputElement = document.getElementById(outputId);\n",
              "  const steps = outputElement.steps;\n",
              "\n",
              "  const next = steps.next(outputElement.lastPromiseValue);\n",
              "  return Promise.resolve(next.value.promise).then((value) => {\n",
              "    // Cache the last promise value to make it available to the next\n",
              "    // step of the generator.\n",
              "    outputElement.lastPromiseValue = value;\n",
              "    return next.value.response;\n",
              "  });\n",
              "}\n",
              "\n",
              "/**\n",
              " * Generator function which is called between each async step of the upload\n",
              " * process.\n",
              " * @param {string} inputId Element ID of the input file picker element.\n",
              " * @param {string} outputId Element ID of the output display.\n",
              " * @return {!Iterable<!Object>} Iterable of next steps.\n",
              " */\n",
              "function* uploadFilesStep(inputId, outputId) {\n",
              "  const inputElement = document.getElementById(inputId);\n",
              "  inputElement.disabled = false;\n",
              "\n",
              "  const outputElement = document.getElementById(outputId);\n",
              "  outputElement.innerHTML = '';\n",
              "\n",
              "  const pickedPromise = new Promise((resolve) => {\n",
              "    inputElement.addEventListener('change', (e) => {\n",
              "      resolve(e.target.files);\n",
              "    });\n",
              "  });\n",
              "\n",
              "  const cancel = document.createElement('button');\n",
              "  inputElement.parentElement.appendChild(cancel);\n",
              "  cancel.textContent = 'Cancel upload';\n",
              "  const cancelPromise = new Promise((resolve) => {\n",
              "    cancel.onclick = () => {\n",
              "      resolve(null);\n",
              "    };\n",
              "  });\n",
              "\n",
              "  // Wait for the user to pick the files.\n",
              "  const files = yield {\n",
              "    promise: Promise.race([pickedPromise, cancelPromise]),\n",
              "    response: {\n",
              "      action: 'starting',\n",
              "    }\n",
              "  };\n",
              "\n",
              "  cancel.remove();\n",
              "\n",
              "  // Disable the input element since further picks are not allowed.\n",
              "  inputElement.disabled = true;\n",
              "\n",
              "  if (!files) {\n",
              "    return {\n",
              "      response: {\n",
              "        action: 'complete',\n",
              "      }\n",
              "    };\n",
              "  }\n",
              "\n",
              "  for (const file of files) {\n",
              "    const li = document.createElement('li');\n",
              "    li.append(span(file.name, {fontWeight: 'bold'}));\n",
              "    li.append(span(\n",
              "        `(${file.type || 'n/a'}) - ${file.size} bytes, ` +\n",
              "        `last modified: ${\n",
              "            file.lastModifiedDate ? file.lastModifiedDate.toLocaleDateString() :\n",
              "                                    'n/a'} - `));\n",
              "    const percent = span('0% done');\n",
              "    li.appendChild(percent);\n",
              "\n",
              "    outputElement.appendChild(li);\n",
              "\n",
              "    const fileDataPromise = new Promise((resolve) => {\n",
              "      const reader = new FileReader();\n",
              "      reader.onload = (e) => {\n",
              "        resolve(e.target.result);\n",
              "      };\n",
              "      reader.readAsArrayBuffer(file);\n",
              "    });\n",
              "    // Wait for the data to be ready.\n",
              "    let fileData = yield {\n",
              "      promise: fileDataPromise,\n",
              "      response: {\n",
              "        action: 'continue',\n",
              "      }\n",
              "    };\n",
              "\n",
              "    // Use a chunked sending to avoid message size limits. See b/62115660.\n",
              "    let position = 0;\n",
              "    do {\n",
              "      const length = Math.min(fileData.byteLength - position, MAX_PAYLOAD_SIZE);\n",
              "      const chunk = new Uint8Array(fileData, position, length);\n",
              "      position += length;\n",
              "\n",
              "      const base64 = btoa(String.fromCharCode.apply(null, chunk));\n",
              "      yield {\n",
              "        response: {\n",
              "          action: 'append',\n",
              "          file: file.name,\n",
              "          data: base64,\n",
              "        },\n",
              "      };\n",
              "\n",
              "      let percentDone = fileData.byteLength === 0 ?\n",
              "          100 :\n",
              "          Math.round((position / fileData.byteLength) * 100);\n",
              "      percent.textContent = `${percentDone}% done`;\n",
              "\n",
              "    } while (position < fileData.byteLength);\n",
              "  }\n",
              "\n",
              "  // All done.\n",
              "  yield {\n",
              "    response: {\n",
              "      action: 'complete',\n",
              "    }\n",
              "  };\n",
              "}\n",
              "\n",
              "scope.google = scope.google || {};\n",
              "scope.google.colab = scope.google.colab || {};\n",
              "scope.google.colab._files = {\n",
              "  _uploadFiles,\n",
              "  _uploadFilesContinue,\n",
              "};\n",
              "})(self);\n",
              "</script> "
            ]
          },
          "metadata": {}
        }
      ],
      "source": [
        "from google.colab import files\n",
        "uploaded = files.upload()"
      ]
    },
    {
      "cell_type": "code",
      "execution_count": 4,
      "id": "dGiMrLw03yJe",
      "metadata": {
        "id": "dGiMrLw03yJe"
      },
      "outputs": [],
      "source": [
        "train_df = pd.read_csv('train_df.csv')\n",
        "val_df = pd.read_csv('val_df.csv')\n",
        "test_df = pd.read_csv('test_df.csv')"
      ]
    },
    {
      "cell_type": "markdown",
      "source": [
        "### Original Data Organization\n",
        "\n",
        "Here, we select the variables we will use for the neural network. We will not be using the Gender, Unit1, Unit2 dummy variables for the model given our model architecture. Using these variables will most likely not capture temporal dependencies. Patient ID is included on the original train and valid sepsis label so we can group it by patient to use in the model."
      ],
      "metadata": {
        "id": "cqKceZyREMNu"
      },
      "id": "cqKceZyREMNu"
    },
    {
      "cell_type": "code",
      "execution_count": 5,
      "id": "08502cdf",
      "metadata": {
        "id": "08502cdf",
        "colab": {
          "base_uri": "https://localhost:8080/"
        },
        "outputId": "ac1c5e41-dae0-4a4b-8fcf-6b15fe1bb38d"
      },
      "outputs": [
        {
          "output_type": "stream",
          "name": "stdout",
          "text": [
            "         time          HR       O2Sat       Temp         SBP         MAP  \\\n",
            "0           1   83.000000   98.000000  36.830000  121.000000   81.000000   \n",
            "1           2   78.000000   99.500000  35.250000  108.500000   84.500000   \n",
            "2           3   80.000000   99.000000  36.200000  113.000000   87.000000   \n",
            "3           4   79.000000  100.000000  36.500000  112.000000   83.000000   \n",
            "4           5   73.000000  100.000000  36.500000  115.000000   80.000000   \n",
            "...       ...         ...         ...        ...         ...         ...   \n",
            "1199593    34  146.000000   99.000000  39.000000   98.707150   66.585701   \n",
            "1199594     5   86.000000  100.000000  36.313767  108.638835   78.902911   \n",
            "1199595    66  107.000000  100.000000  37.175043   96.623927   67.656556   \n",
            "1199596    11   84.045926   97.614815  36.743111  137.918521  100.505187   \n",
            "1199597     4  118.000000   95.000000  36.830000  141.000000  122.000000   \n",
            "\n",
            "                DBP       Resp  BaseExcess       HCO3  ...        Hgb  \\\n",
            "0         62.000000  18.000000    0.000000  24.000000  ...  10.500000   \n",
            "1         69.000000  12.000000    0.000000  23.000000  ...  12.000000   \n",
            "2         73.000000  12.000000    0.000000  23.000000  ...  12.000000   \n",
            "3         68.000000  12.000000   -2.500000  23.000000  ...  12.000000   \n",
            "4         64.000000  11.000000   -2.500000  23.000000  ...  12.000000   \n",
            "...             ...        ...         ...        ...  ...        ...   \n",
            "1199593   48.000000  37.000000    0.000000  24.000000  ...   7.387855   \n",
            "1199594   61.444658  17.541747    0.000000  24.000000  ...  10.500000   \n",
            "1199595   62.602175  14.569547    3.978248  28.376073  ...  10.143045   \n",
            "1199596   79.321482  23.816296    0.000000  24.000000  ...  10.500000   \n",
            "1199597  110.000000  20.000000    0.000000  24.000000  ...   8.100000   \n",
            "\n",
            "               PTT        WBC   Platelets        Age  HospAdmTime     ICULOS  \\\n",
            "0        30.900000  10.300000  189.000000  57.030000    -4.250000   1.000000   \n",
            "1        30.900000  14.200000  189.000000  57.030000    -4.250000   2.000000   \n",
            "2        30.900000  14.200000  189.000000  57.030000    -4.250000   3.000000   \n",
            "3        30.900000  14.200000  189.000000  57.030000    -4.250000   4.000000   \n",
            "4        30.900000  14.200000  189.000000  57.030000    -4.250000   5.000000   \n",
            "...            ...        ...         ...        ...          ...        ...   \n",
            "1199593  41.600000  17.914986  122.978455  27.000000     0.000000  34.292850   \n",
            "1199594  30.900000  10.300000  189.000000  81.000000    -0.340000   5.458253   \n",
            "1199595  24.382828   9.429994  156.599881  57.222381   -25.100598  66.689184   \n",
            "1199596  30.900000  10.300000  189.000000  47.954074   -15.357128  11.431111   \n",
            "1199597  32.500000  19.500000  523.000000  26.000000    -0.070000   4.532057   \n",
            "\n",
            "         patient        THint   RHratio  \n",
            "0          16426  3056.890000  0.216867  \n",
            "1          16426  2749.500000  0.153846  \n",
            "2          16426  2896.000000  0.150000  \n",
            "3          16426  2883.500000  0.151899  \n",
            "4          16426  2664.500000  0.150685  \n",
            "...          ...          ...       ...  \n",
            "1199593     8834  5694.000000  0.253425  \n",
            "1199594     1977  3122.983949  0.203974  \n",
            "1199595    20006  3977.729591  0.136164  \n",
            "1199596    23600  3087.959114  0.283978  \n",
            "1199597    18961  4345.940000  0.169492  \n",
            "\n",
            "[1199598 rows x 37 columns]\n",
            "         SepsisLabel  patient\n",
            "0                  0    16426\n",
            "1                  0    16426\n",
            "2                  0    16426\n",
            "3                  0    16426\n",
            "4                  0    16426\n",
            "...              ...      ...\n",
            "1199593            1     8834\n",
            "1199594            1     1977\n",
            "1199595            1    20006\n",
            "1199596            1    23600\n",
            "1199597            1    18961\n",
            "\n",
            "[1199598 rows x 2 columns]\n"
          ]
        }
      ],
      "source": [
        "train_x = train_df.drop(columns = ['SepsisLabel', 'Gender', 'Unit1', 'Unit2'])\n",
        "train_y = train_df[['SepsisLabel', 'patient']]\n",
        "valid_x = val_df.drop(columns = ['SepsisLabel', 'Gender', 'Unit1', 'Unit2'])\n",
        "valid_y = val_df[['SepsisLabel', 'patient']]\n",
        "test_x = test_df.drop(columns= ['Gender', 'Unit1', 'Unit2'])\n",
        "print(train_x)\n",
        "print(train_y)"
      ]
    },
    {
      "cell_type": "code",
      "execution_count": 6,
      "id": "2f4f762b-d7d5-43ef-ac47-8fd60fd55abe",
      "metadata": {
        "id": "2f4f762b-d7d5-43ef-ac47-8fd60fd55abe",
        "colab": {
          "base_uri": "https://localhost:8080/"
        },
        "outputId": "1961753a-bb85-4c27-9118-f1dbab3bc5c1"
      },
      "outputs": [
        {
          "output_type": "stream",
          "name": "stdout",
          "text": [
            "        time    HR  O2Sat   Temp    SBP    MAP   DBP  Resp  BaseExcess  HCO3  \\\n",
            "0          1  83.0   98.0  36.83  121.0   81.0  62.0  18.0         0.0  24.0   \n",
            "1          2  80.0   98.0  36.83  169.0  120.0  96.0  20.0         0.0  24.0   \n",
            "2          3  74.0   97.0  36.83  162.0   98.0  74.0  18.0         0.0  24.0   \n",
            "3          4  68.0   98.0  36.83  134.0   80.0  62.0  20.0         0.0  24.0   \n",
            "4          5  66.0   96.0  36.30  132.0   76.0  58.0  22.0         0.0  24.0   \n",
            "...      ...   ...    ...    ...    ...    ...   ...   ...         ...   ...   \n",
            "163638    37  88.0   98.0  36.90  122.0   82.0  61.0   9.0         0.0  24.0   \n",
            "163639    38  94.0   98.0  36.90  131.0   84.0  60.0   9.0         0.0  24.0   \n",
            "163640    39  90.0   93.0  36.40  113.0   85.0  68.0  13.0         0.0  24.0   \n",
            "163641    40  86.0   98.0  36.40  116.0   75.0  60.0   7.0         0.0  24.0   \n",
            "163642    41  88.0   99.0  36.40  140.0   94.0  71.0  12.0         0.0  24.0   \n",
            "\n",
            "        ...   Hgb   PTT   WBC  Platelets   Age  HospAdmTime  ICULOS  patient  \\\n",
            "0       ...  10.5  30.9  10.3      189.0  50.0       -25.16     1.0    11627   \n",
            "1       ...  10.5  30.9  10.3      189.0  50.0       -25.16     2.0    11627   \n",
            "2       ...  10.5  30.9  10.3      189.0  50.0       -25.16     3.0    11627   \n",
            "3       ...  10.5  30.9  10.3      189.0  50.0       -25.16     4.0    11627   \n",
            "4       ...  10.5  30.9  10.3      189.0  50.0       -25.16     5.0    11627   \n",
            "...     ...   ...   ...   ...        ...   ...          ...     ...      ...   \n",
            "163638  ...   8.2  30.9   6.2      115.0  70.0       -11.61    37.0    11255   \n",
            "163639  ...   8.2  30.9   6.2      115.0  70.0       -11.61    38.0    11255   \n",
            "163640  ...   8.2  30.9   6.2      115.0  70.0       -11.61    39.0    11255   \n",
            "163641  ...   8.2  30.9   6.2      115.0  70.0       -11.61    40.0    11255   \n",
            "163642  ...   8.2  30.9   6.2      115.0  70.0       -11.61    41.0    11255   \n",
            "\n",
            "          THint   RHratio  \n",
            "0       3056.89  0.216867  \n",
            "1       2946.40  0.250000  \n",
            "2       2725.42  0.243243  \n",
            "3       2504.44  0.294118  \n",
            "4       2395.80  0.333333  \n",
            "...         ...       ...  \n",
            "163638  3247.20  0.102273  \n",
            "163639  3468.60  0.095745  \n",
            "163640  3276.00  0.144444  \n",
            "163641  3130.40  0.081395  \n",
            "163642  3203.20  0.136364  \n",
            "\n",
            "[163643 rows x 37 columns]\n"
          ]
        }
      ],
      "source": [
        "print(valid_x)"
      ]
    },
    {
      "cell_type": "markdown",
      "source": [
        "## 2. Min-Max Scaling\n",
        "\n",
        "We use min-max scaling/normalization to the imported data. The purpose of this is to put everything on the same scale. This has several benefits such as smoother convergence, easier optimization, and consistent feature representation.\n",
        "\n",
        "The formula for this is:\n",
        "Xscaled = (X - Xmin)/(Xmax - Xmin)"
      ],
      "metadata": {
        "id": "7CSZm8HEFwQn"
      },
      "id": "7CSZm8HEFwQn"
    },
    {
      "cell_type": "code",
      "execution_count": 7,
      "id": "e7f3a18d-287f-47a2-99e8-c904704ae432",
      "metadata": {
        "id": "e7f3a18d-287f-47a2-99e8-c904704ae432"
      },
      "outputs": [],
      "source": [
        "\n",
        "dummy_vars = ['time', 'patient']    # List of dummy variable column names\n",
        "feature_cols = train_x.columns.difference(dummy_vars)\n",
        "\n",
        "# Standardizing the features\n",
        "scaler = MinMaxScaler()\n",
        "train_x_scaled = train_x.copy()\n",
        "valid_x_scaled = valid_x.copy()\n",
        "test_x_scaled = test_x.copy()\n",
        "\n",
        "train_x_scaled[feature_cols] = scaler.fit_transform(train_x_scaled[feature_cols])\n",
        "valid_x_scaled[feature_cols] = scaler.transform(valid_x_scaled[feature_cols])\n",
        "test_x_scaled[feature_cols] = scaler.transform(test_x_scaled[feature_cols])"
      ]
    },
    {
      "cell_type": "code",
      "execution_count": 8,
      "id": "34bc67db-730e-4bfe-8920-91cda1493c6e",
      "metadata": {
        "id": "34bc67db-730e-4bfe-8920-91cda1493c6e",
        "outputId": "5fb98d57-6130-47eb-b0cc-82fbca27304e",
        "colab": {
          "base_uri": "https://localhost:8080/"
        }
      },
      "outputs": [
        {
          "output_type": "stream",
          "name": "stdout",
          "text": [
            "(464354, 37)\n"
          ]
        }
      ],
      "source": [
        "print(test_x_scaled.shape)\n"
      ]
    },
    {
      "cell_type": "code",
      "execution_count": 9,
      "id": "8c21b71d-af7c-4223-bf83-e5cd76497407",
      "metadata": {
        "colab": {
          "base_uri": "https://localhost:8080/",
          "height": 461
        },
        "id": "8c21b71d-af7c-4223-bf83-e5cd76497407",
        "outputId": "c048f6ce-bbcd-495f-9e42-0dfe2a434a79"
      },
      "outputs": [
        {
          "output_type": "stream",
          "name": "stdout",
          "text": [
            "(1199598, 37)\n"
          ]
        },
        {
          "output_type": "execute_result",
          "data": {
            "text/plain": [
              "         time        HR     O2Sat      Temp       SBP       MAP       DBP  \\\n",
              "0           1  0.326316  0.975000  0.731224  0.390054  0.257578  0.241227   \n",
              "1           2  0.300000  0.993750  0.698980  0.347460  0.269443  0.263544   \n",
              "2           3  0.310526  0.987500  0.718367  0.362793  0.277919  0.276297   \n",
              "3           4  0.305263  1.000000  0.724490  0.359386  0.264358  0.260356   \n",
              "4           5  0.273684  1.000000  0.724490  0.369608  0.254188  0.247604   \n",
              "...       ...       ...       ...       ...       ...       ...       ...   \n",
              "1199593    34  0.657895  0.987500  0.775510  0.314090  0.208713  0.196594   \n",
              "1199594     5  0.342105  1.000000  0.720689  0.347933  0.250469  0.239457   \n",
              "1199595    66  0.452632  1.000000  0.738266  0.306992  0.212343  0.243147   \n",
              "1199596    11  0.331821  0.970185  0.729451  0.447704  0.323702  0.296450   \n",
              "1199597     4  0.510526  0.937500  0.731224  0.458204  0.396570  0.394257   \n",
              "\n",
              "             Resp  BaseExcess      HCO3  ...       Hgb       PTT       WBC  \\\n",
              "0        0.171717    0.209486  0.436364  ...  0.268707  0.077474  0.023187   \n",
              "1        0.111111    0.209486  0.418182  ...  0.319728  0.077474  0.032053   \n",
              "2        0.111111    0.209486  0.418182  ...  0.319728  0.077474  0.032053   \n",
              "3        0.111111    0.189723  0.418182  ...  0.319728  0.077474  0.032053   \n",
              "4        0.101010    0.189723  0.418182  ...  0.319728  0.077474  0.032053   \n",
              "...           ...         ...       ...  ...       ...       ...       ...   \n",
              "1199593  0.363636    0.209486  0.436364  ...  0.162852  0.122526  0.040498   \n",
              "1199594  0.167088    0.209486  0.436364  ...  0.268707  0.077474  0.023187   \n",
              "1199595  0.137066    0.240935  0.515929  ...  0.256566  0.050033  0.021209   \n",
              "1199596  0.230468    0.209486  0.436364  ...  0.268707  0.077474  0.023187   \n",
              "1199597  0.191919    0.209486  0.436364  ...  0.187075  0.084211  0.044101   \n",
              "\n",
              "         Platelets       Age  HospAdmTime    ICULOS  patient     THint  \\\n",
              "0         0.081000  0.500349     0.995491  0.000000    16426  0.374805   \n",
              "1         0.081000  0.500349     0.995491  0.002985    16426  0.335736   \n",
              "2         0.081000  0.500349     0.995491  0.005970    16426  0.354356   \n",
              "3         0.081000  0.500349     0.995491  0.008955    16426  0.352767   \n",
              "4         0.081000  0.500349     0.995491  0.011940    16426  0.324932   \n",
              "...            ...       ...          ...       ...      ...       ...   \n",
              "1199593   0.052554  0.151163     0.996280  0.099382     8834  0.709982   \n",
              "1199594   0.081000  0.779070     0.996217  0.013308     1977  0.383205   \n",
              "1199595   0.067040  0.502586     0.991620  0.196087    20006  0.491844   \n",
              "1199596   0.081000  0.394815     0.993429  0.031138    23600  0.378754   \n",
              "1199597   0.224903  0.139535     0.996267  0.010543    18961  0.538644   \n",
              "\n",
              "          RHratio  \n",
              "0        0.130799  \n",
              "1        0.091584  \n",
              "2        0.089191  \n",
              "3        0.090372  \n",
              "4        0.089617  \n",
              "...           ...  \n",
              "1199593  0.153548  \n",
              "1199594  0.122776  \n",
              "1199595  0.080581  \n",
              "1199596  0.172560  \n",
              "1199597  0.101319  \n",
              "\n",
              "[1199598 rows x 37 columns]"
            ],
            "text/html": [
              "\n",
              "  <div id=\"df-76cf6fea-8fe0-4e57-bfbc-412fee58826d\" class=\"colab-df-container\">\n",
              "    <div>\n",
              "<style scoped>\n",
              "    .dataframe tbody tr th:only-of-type {\n",
              "        vertical-align: middle;\n",
              "    }\n",
              "\n",
              "    .dataframe tbody tr th {\n",
              "        vertical-align: top;\n",
              "    }\n",
              "\n",
              "    .dataframe thead th {\n",
              "        text-align: right;\n",
              "    }\n",
              "</style>\n",
              "<table border=\"1\" class=\"dataframe\">\n",
              "  <thead>\n",
              "    <tr style=\"text-align: right;\">\n",
              "      <th></th>\n",
              "      <th>time</th>\n",
              "      <th>HR</th>\n",
              "      <th>O2Sat</th>\n",
              "      <th>Temp</th>\n",
              "      <th>SBP</th>\n",
              "      <th>MAP</th>\n",
              "      <th>DBP</th>\n",
              "      <th>Resp</th>\n",
              "      <th>BaseExcess</th>\n",
              "      <th>HCO3</th>\n",
              "      <th>...</th>\n",
              "      <th>Hgb</th>\n",
              "      <th>PTT</th>\n",
              "      <th>WBC</th>\n",
              "      <th>Platelets</th>\n",
              "      <th>Age</th>\n",
              "      <th>HospAdmTime</th>\n",
              "      <th>ICULOS</th>\n",
              "      <th>patient</th>\n",
              "      <th>THint</th>\n",
              "      <th>RHratio</th>\n",
              "    </tr>\n",
              "  </thead>\n",
              "  <tbody>\n",
              "    <tr>\n",
              "      <th>0</th>\n",
              "      <td>1</td>\n",
              "      <td>0.326316</td>\n",
              "      <td>0.975000</td>\n",
              "      <td>0.731224</td>\n",
              "      <td>0.390054</td>\n",
              "      <td>0.257578</td>\n",
              "      <td>0.241227</td>\n",
              "      <td>0.171717</td>\n",
              "      <td>0.209486</td>\n",
              "      <td>0.436364</td>\n",
              "      <td>...</td>\n",
              "      <td>0.268707</td>\n",
              "      <td>0.077474</td>\n",
              "      <td>0.023187</td>\n",
              "      <td>0.081000</td>\n",
              "      <td>0.500349</td>\n",
              "      <td>0.995491</td>\n",
              "      <td>0.000000</td>\n",
              "      <td>16426</td>\n",
              "      <td>0.374805</td>\n",
              "      <td>0.130799</td>\n",
              "    </tr>\n",
              "    <tr>\n",
              "      <th>1</th>\n",
              "      <td>2</td>\n",
              "      <td>0.300000</td>\n",
              "      <td>0.993750</td>\n",
              "      <td>0.698980</td>\n",
              "      <td>0.347460</td>\n",
              "      <td>0.269443</td>\n",
              "      <td>0.263544</td>\n",
              "      <td>0.111111</td>\n",
              "      <td>0.209486</td>\n",
              "      <td>0.418182</td>\n",
              "      <td>...</td>\n",
              "      <td>0.319728</td>\n",
              "      <td>0.077474</td>\n",
              "      <td>0.032053</td>\n",
              "      <td>0.081000</td>\n",
              "      <td>0.500349</td>\n",
              "      <td>0.995491</td>\n",
              "      <td>0.002985</td>\n",
              "      <td>16426</td>\n",
              "      <td>0.335736</td>\n",
              "      <td>0.091584</td>\n",
              "    </tr>\n",
              "    <tr>\n",
              "      <th>2</th>\n",
              "      <td>3</td>\n",
              "      <td>0.310526</td>\n",
              "      <td>0.987500</td>\n",
              "      <td>0.718367</td>\n",
              "      <td>0.362793</td>\n",
              "      <td>0.277919</td>\n",
              "      <td>0.276297</td>\n",
              "      <td>0.111111</td>\n",
              "      <td>0.209486</td>\n",
              "      <td>0.418182</td>\n",
              "      <td>...</td>\n",
              "      <td>0.319728</td>\n",
              "      <td>0.077474</td>\n",
              "      <td>0.032053</td>\n",
              "      <td>0.081000</td>\n",
              "      <td>0.500349</td>\n",
              "      <td>0.995491</td>\n",
              "      <td>0.005970</td>\n",
              "      <td>16426</td>\n",
              "      <td>0.354356</td>\n",
              "      <td>0.089191</td>\n",
              "    </tr>\n",
              "    <tr>\n",
              "      <th>3</th>\n",
              "      <td>4</td>\n",
              "      <td>0.305263</td>\n",
              "      <td>1.000000</td>\n",
              "      <td>0.724490</td>\n",
              "      <td>0.359386</td>\n",
              "      <td>0.264358</td>\n",
              "      <td>0.260356</td>\n",
              "      <td>0.111111</td>\n",
              "      <td>0.189723</td>\n",
              "      <td>0.418182</td>\n",
              "      <td>...</td>\n",
              "      <td>0.319728</td>\n",
              "      <td>0.077474</td>\n",
              "      <td>0.032053</td>\n",
              "      <td>0.081000</td>\n",
              "      <td>0.500349</td>\n",
              "      <td>0.995491</td>\n",
              "      <td>0.008955</td>\n",
              "      <td>16426</td>\n",
              "      <td>0.352767</td>\n",
              "      <td>0.090372</td>\n",
              "    </tr>\n",
              "    <tr>\n",
              "      <th>4</th>\n",
              "      <td>5</td>\n",
              "      <td>0.273684</td>\n",
              "      <td>1.000000</td>\n",
              "      <td>0.724490</td>\n",
              "      <td>0.369608</td>\n",
              "      <td>0.254188</td>\n",
              "      <td>0.247604</td>\n",
              "      <td>0.101010</td>\n",
              "      <td>0.189723</td>\n",
              "      <td>0.418182</td>\n",
              "      <td>...</td>\n",
              "      <td>0.319728</td>\n",
              "      <td>0.077474</td>\n",
              "      <td>0.032053</td>\n",
              "      <td>0.081000</td>\n",
              "      <td>0.500349</td>\n",
              "      <td>0.995491</td>\n",
              "      <td>0.011940</td>\n",
              "      <td>16426</td>\n",
              "      <td>0.324932</td>\n",
              "      <td>0.089617</td>\n",
              "    </tr>\n",
              "    <tr>\n",
              "      <th>...</th>\n",
              "      <td>...</td>\n",
              "      <td>...</td>\n",
              "      <td>...</td>\n",
              "      <td>...</td>\n",
              "      <td>...</td>\n",
              "      <td>...</td>\n",
              "      <td>...</td>\n",
              "      <td>...</td>\n",
              "      <td>...</td>\n",
              "      <td>...</td>\n",
              "      <td>...</td>\n",
              "      <td>...</td>\n",
              "      <td>...</td>\n",
              "      <td>...</td>\n",
              "      <td>...</td>\n",
              "      <td>...</td>\n",
              "      <td>...</td>\n",
              "      <td>...</td>\n",
              "      <td>...</td>\n",
              "      <td>...</td>\n",
              "      <td>...</td>\n",
              "    </tr>\n",
              "    <tr>\n",
              "      <th>1199593</th>\n",
              "      <td>34</td>\n",
              "      <td>0.657895</td>\n",
              "      <td>0.987500</td>\n",
              "      <td>0.775510</td>\n",
              "      <td>0.314090</td>\n",
              "      <td>0.208713</td>\n",
              "      <td>0.196594</td>\n",
              "      <td>0.363636</td>\n",
              "      <td>0.209486</td>\n",
              "      <td>0.436364</td>\n",
              "      <td>...</td>\n",
              "      <td>0.162852</td>\n",
              "      <td>0.122526</td>\n",
              "      <td>0.040498</td>\n",
              "      <td>0.052554</td>\n",
              "      <td>0.151163</td>\n",
              "      <td>0.996280</td>\n",
              "      <td>0.099382</td>\n",
              "      <td>8834</td>\n",
              "      <td>0.709982</td>\n",
              "      <td>0.153548</td>\n",
              "    </tr>\n",
              "    <tr>\n",
              "      <th>1199594</th>\n",
              "      <td>5</td>\n",
              "      <td>0.342105</td>\n",
              "      <td>1.000000</td>\n",
              "      <td>0.720689</td>\n",
              "      <td>0.347933</td>\n",
              "      <td>0.250469</td>\n",
              "      <td>0.239457</td>\n",
              "      <td>0.167088</td>\n",
              "      <td>0.209486</td>\n",
              "      <td>0.436364</td>\n",
              "      <td>...</td>\n",
              "      <td>0.268707</td>\n",
              "      <td>0.077474</td>\n",
              "      <td>0.023187</td>\n",
              "      <td>0.081000</td>\n",
              "      <td>0.779070</td>\n",
              "      <td>0.996217</td>\n",
              "      <td>0.013308</td>\n",
              "      <td>1977</td>\n",
              "      <td>0.383205</td>\n",
              "      <td>0.122776</td>\n",
              "    </tr>\n",
              "    <tr>\n",
              "      <th>1199595</th>\n",
              "      <td>66</td>\n",
              "      <td>0.452632</td>\n",
              "      <td>1.000000</td>\n",
              "      <td>0.738266</td>\n",
              "      <td>0.306992</td>\n",
              "      <td>0.212343</td>\n",
              "      <td>0.243147</td>\n",
              "      <td>0.137066</td>\n",
              "      <td>0.240935</td>\n",
              "      <td>0.515929</td>\n",
              "      <td>...</td>\n",
              "      <td>0.256566</td>\n",
              "      <td>0.050033</td>\n",
              "      <td>0.021209</td>\n",
              "      <td>0.067040</td>\n",
              "      <td>0.502586</td>\n",
              "      <td>0.991620</td>\n",
              "      <td>0.196087</td>\n",
              "      <td>20006</td>\n",
              "      <td>0.491844</td>\n",
              "      <td>0.080581</td>\n",
              "    </tr>\n",
              "    <tr>\n",
              "      <th>1199596</th>\n",
              "      <td>11</td>\n",
              "      <td>0.331821</td>\n",
              "      <td>0.970185</td>\n",
              "      <td>0.729451</td>\n",
              "      <td>0.447704</td>\n",
              "      <td>0.323702</td>\n",
              "      <td>0.296450</td>\n",
              "      <td>0.230468</td>\n",
              "      <td>0.209486</td>\n",
              "      <td>0.436364</td>\n",
              "      <td>...</td>\n",
              "      <td>0.268707</td>\n",
              "      <td>0.077474</td>\n",
              "      <td>0.023187</td>\n",
              "      <td>0.081000</td>\n",
              "      <td>0.394815</td>\n",
              "      <td>0.993429</td>\n",
              "      <td>0.031138</td>\n",
              "      <td>23600</td>\n",
              "      <td>0.378754</td>\n",
              "      <td>0.172560</td>\n",
              "    </tr>\n",
              "    <tr>\n",
              "      <th>1199597</th>\n",
              "      <td>4</td>\n",
              "      <td>0.510526</td>\n",
              "      <td>0.937500</td>\n",
              "      <td>0.731224</td>\n",
              "      <td>0.458204</td>\n",
              "      <td>0.396570</td>\n",
              "      <td>0.394257</td>\n",
              "      <td>0.191919</td>\n",
              "      <td>0.209486</td>\n",
              "      <td>0.436364</td>\n",
              "      <td>...</td>\n",
              "      <td>0.187075</td>\n",
              "      <td>0.084211</td>\n",
              "      <td>0.044101</td>\n",
              "      <td>0.224903</td>\n",
              "      <td>0.139535</td>\n",
              "      <td>0.996267</td>\n",
              "      <td>0.010543</td>\n",
              "      <td>18961</td>\n",
              "      <td>0.538644</td>\n",
              "      <td>0.101319</td>\n",
              "    </tr>\n",
              "  </tbody>\n",
              "</table>\n",
              "<p>1199598 rows × 37 columns</p>\n",
              "</div>\n",
              "    <div class=\"colab-df-buttons\">\n",
              "\n",
              "  <div class=\"colab-df-container\">\n",
              "    <button class=\"colab-df-convert\" onclick=\"convertToInteractive('df-76cf6fea-8fe0-4e57-bfbc-412fee58826d')\"\n",
              "            title=\"Convert this dataframe to an interactive table.\"\n",
              "            style=\"display:none;\">\n",
              "\n",
              "  <svg xmlns=\"http://www.w3.org/2000/svg\" height=\"24px\" viewBox=\"0 -960 960 960\">\n",
              "    <path d=\"M120-120v-720h720v720H120Zm60-500h600v-160H180v160Zm220 220h160v-160H400v160Zm0 220h160v-160H400v160ZM180-400h160v-160H180v160Zm440 0h160v-160H620v160ZM180-180h160v-160H180v160Zm440 0h160v-160H620v160Z\"/>\n",
              "  </svg>\n",
              "    </button>\n",
              "\n",
              "  <style>\n",
              "    .colab-df-container {\n",
              "      display:flex;\n",
              "      gap: 12px;\n",
              "    }\n",
              "\n",
              "    .colab-df-convert {\n",
              "      background-color: #E8F0FE;\n",
              "      border: none;\n",
              "      border-radius: 50%;\n",
              "      cursor: pointer;\n",
              "      display: none;\n",
              "      fill: #1967D2;\n",
              "      height: 32px;\n",
              "      padding: 0 0 0 0;\n",
              "      width: 32px;\n",
              "    }\n",
              "\n",
              "    .colab-df-convert:hover {\n",
              "      background-color: #E2EBFA;\n",
              "      box-shadow: 0px 1px 2px rgba(60, 64, 67, 0.3), 0px 1px 3px 1px rgba(60, 64, 67, 0.15);\n",
              "      fill: #174EA6;\n",
              "    }\n",
              "\n",
              "    .colab-df-buttons div {\n",
              "      margin-bottom: 4px;\n",
              "    }\n",
              "\n",
              "    [theme=dark] .colab-df-convert {\n",
              "      background-color: #3B4455;\n",
              "      fill: #D2E3FC;\n",
              "    }\n",
              "\n",
              "    [theme=dark] .colab-df-convert:hover {\n",
              "      background-color: #434B5C;\n",
              "      box-shadow: 0px 1px 3px 1px rgba(0, 0, 0, 0.15);\n",
              "      filter: drop-shadow(0px 1px 2px rgba(0, 0, 0, 0.3));\n",
              "      fill: #FFFFFF;\n",
              "    }\n",
              "  </style>\n",
              "\n",
              "    <script>\n",
              "      const buttonEl =\n",
              "        document.querySelector('#df-76cf6fea-8fe0-4e57-bfbc-412fee58826d button.colab-df-convert');\n",
              "      buttonEl.style.display =\n",
              "        google.colab.kernel.accessAllowed ? 'block' : 'none';\n",
              "\n",
              "      async function convertToInteractive(key) {\n",
              "        const element = document.querySelector('#df-76cf6fea-8fe0-4e57-bfbc-412fee58826d');\n",
              "        const dataTable =\n",
              "          await google.colab.kernel.invokeFunction('convertToInteractive',\n",
              "                                                    [key], {});\n",
              "        if (!dataTable) return;\n",
              "\n",
              "        const docLinkHtml = 'Like what you see? Visit the ' +\n",
              "          '<a target=\"_blank\" href=https://colab.research.google.com/notebooks/data_table.ipynb>data table notebook</a>'\n",
              "          + ' to learn more about interactive tables.';\n",
              "        element.innerHTML = '';\n",
              "        dataTable['output_type'] = 'display_data';\n",
              "        await google.colab.output.renderOutput(dataTable, element);\n",
              "        const docLink = document.createElement('div');\n",
              "        docLink.innerHTML = docLinkHtml;\n",
              "        element.appendChild(docLink);\n",
              "      }\n",
              "    </script>\n",
              "  </div>\n",
              "\n",
              "\n",
              "<div id=\"df-688d7d9a-8248-4c1a-9a1e-e262bb639794\">\n",
              "  <button class=\"colab-df-quickchart\" onclick=\"quickchart('df-688d7d9a-8248-4c1a-9a1e-e262bb639794')\"\n",
              "            title=\"Suggest charts\"\n",
              "            style=\"display:none;\">\n",
              "\n",
              "<svg xmlns=\"http://www.w3.org/2000/svg\" height=\"24px\"viewBox=\"0 0 24 24\"\n",
              "     width=\"24px\">\n",
              "    <g>\n",
              "        <path d=\"M19 3H5c-1.1 0-2 .9-2 2v14c0 1.1.9 2 2 2h14c1.1 0 2-.9 2-2V5c0-1.1-.9-2-2-2zM9 17H7v-7h2v7zm4 0h-2V7h2v10zm4 0h-2v-4h2v4z\"/>\n",
              "    </g>\n",
              "</svg>\n",
              "  </button>\n",
              "\n",
              "<style>\n",
              "  .colab-df-quickchart {\n",
              "      --bg-color: #E8F0FE;\n",
              "      --fill-color: #1967D2;\n",
              "      --hover-bg-color: #E2EBFA;\n",
              "      --hover-fill-color: #174EA6;\n",
              "      --disabled-fill-color: #AAA;\n",
              "      --disabled-bg-color: #DDD;\n",
              "  }\n",
              "\n",
              "  [theme=dark] .colab-df-quickchart {\n",
              "      --bg-color: #3B4455;\n",
              "      --fill-color: #D2E3FC;\n",
              "      --hover-bg-color: #434B5C;\n",
              "      --hover-fill-color: #FFFFFF;\n",
              "      --disabled-bg-color: #3B4455;\n",
              "      --disabled-fill-color: #666;\n",
              "  }\n",
              "\n",
              "  .colab-df-quickchart {\n",
              "    background-color: var(--bg-color);\n",
              "    border: none;\n",
              "    border-radius: 50%;\n",
              "    cursor: pointer;\n",
              "    display: none;\n",
              "    fill: var(--fill-color);\n",
              "    height: 32px;\n",
              "    padding: 0;\n",
              "    width: 32px;\n",
              "  }\n",
              "\n",
              "  .colab-df-quickchart:hover {\n",
              "    background-color: var(--hover-bg-color);\n",
              "    box-shadow: 0 1px 2px rgba(60, 64, 67, 0.3), 0 1px 3px 1px rgba(60, 64, 67, 0.15);\n",
              "    fill: var(--button-hover-fill-color);\n",
              "  }\n",
              "\n",
              "  .colab-df-quickchart-complete:disabled,\n",
              "  .colab-df-quickchart-complete:disabled:hover {\n",
              "    background-color: var(--disabled-bg-color);\n",
              "    fill: var(--disabled-fill-color);\n",
              "    box-shadow: none;\n",
              "  }\n",
              "\n",
              "  .colab-df-spinner {\n",
              "    border: 2px solid var(--fill-color);\n",
              "    border-color: transparent;\n",
              "    border-bottom-color: var(--fill-color);\n",
              "    animation:\n",
              "      spin 1s steps(1) infinite;\n",
              "  }\n",
              "\n",
              "  @keyframes spin {\n",
              "    0% {\n",
              "      border-color: transparent;\n",
              "      border-bottom-color: var(--fill-color);\n",
              "      border-left-color: var(--fill-color);\n",
              "    }\n",
              "    20% {\n",
              "      border-color: transparent;\n",
              "      border-left-color: var(--fill-color);\n",
              "      border-top-color: var(--fill-color);\n",
              "    }\n",
              "    30% {\n",
              "      border-color: transparent;\n",
              "      border-left-color: var(--fill-color);\n",
              "      border-top-color: var(--fill-color);\n",
              "      border-right-color: var(--fill-color);\n",
              "    }\n",
              "    40% {\n",
              "      border-color: transparent;\n",
              "      border-right-color: var(--fill-color);\n",
              "      border-top-color: var(--fill-color);\n",
              "    }\n",
              "    60% {\n",
              "      border-color: transparent;\n",
              "      border-right-color: var(--fill-color);\n",
              "    }\n",
              "    80% {\n",
              "      border-color: transparent;\n",
              "      border-right-color: var(--fill-color);\n",
              "      border-bottom-color: var(--fill-color);\n",
              "    }\n",
              "    90% {\n",
              "      border-color: transparent;\n",
              "      border-bottom-color: var(--fill-color);\n",
              "    }\n",
              "  }\n",
              "</style>\n",
              "\n",
              "  <script>\n",
              "    async function quickchart(key) {\n",
              "      const quickchartButtonEl =\n",
              "        document.querySelector('#' + key + ' button');\n",
              "      quickchartButtonEl.disabled = true;  // To prevent multiple clicks.\n",
              "      quickchartButtonEl.classList.add('colab-df-spinner');\n",
              "      try {\n",
              "        const charts = await google.colab.kernel.invokeFunction(\n",
              "            'suggestCharts', [key], {});\n",
              "      } catch (error) {\n",
              "        console.error('Error during call to suggestCharts:', error);\n",
              "      }\n",
              "      quickchartButtonEl.classList.remove('colab-df-spinner');\n",
              "      quickchartButtonEl.classList.add('colab-df-quickchart-complete');\n",
              "    }\n",
              "    (() => {\n",
              "      let quickchartButtonEl =\n",
              "        document.querySelector('#df-688d7d9a-8248-4c1a-9a1e-e262bb639794 button');\n",
              "      quickchartButtonEl.style.display =\n",
              "        google.colab.kernel.accessAllowed ? 'block' : 'none';\n",
              "    })();\n",
              "  </script>\n",
              "</div>\n",
              "\n",
              "  <div id=\"id_8853f7b6-7132-4988-a11d-59b6edcd5325\">\n",
              "    <style>\n",
              "      .colab-df-generate {\n",
              "        background-color: #E8F0FE;\n",
              "        border: none;\n",
              "        border-radius: 50%;\n",
              "        cursor: pointer;\n",
              "        display: none;\n",
              "        fill: #1967D2;\n",
              "        height: 32px;\n",
              "        padding: 0 0 0 0;\n",
              "        width: 32px;\n",
              "      }\n",
              "\n",
              "      .colab-df-generate:hover {\n",
              "        background-color: #E2EBFA;\n",
              "        box-shadow: 0px 1px 2px rgba(60, 64, 67, 0.3), 0px 1px 3px 1px rgba(60, 64, 67, 0.15);\n",
              "        fill: #174EA6;\n",
              "      }\n",
              "\n",
              "      [theme=dark] .colab-df-generate {\n",
              "        background-color: #3B4455;\n",
              "        fill: #D2E3FC;\n",
              "      }\n",
              "\n",
              "      [theme=dark] .colab-df-generate:hover {\n",
              "        background-color: #434B5C;\n",
              "        box-shadow: 0px 1px 3px 1px rgba(0, 0, 0, 0.15);\n",
              "        filter: drop-shadow(0px 1px 2px rgba(0, 0, 0, 0.3));\n",
              "        fill: #FFFFFF;\n",
              "      }\n",
              "    </style>\n",
              "    <button class=\"colab-df-generate\" onclick=\"generateWithVariable('train_x_scaled')\"\n",
              "            title=\"Generate code using this dataframe.\"\n",
              "            style=\"display:none;\">\n",
              "\n",
              "  <svg xmlns=\"http://www.w3.org/2000/svg\" height=\"24px\"viewBox=\"0 0 24 24\"\n",
              "       width=\"24px\">\n",
              "    <path d=\"M7,19H8.4L18.45,9,17,7.55,7,17.6ZM5,21V16.75L18.45,3.32a2,2,0,0,1,2.83,0l1.4,1.43a1.91,1.91,0,0,1,.58,1.4,1.91,1.91,0,0,1-.58,1.4L9.25,21ZM18.45,9,17,7.55Zm-12,3A5.31,5.31,0,0,0,4.9,8.1,5.31,5.31,0,0,0,1,6.5,5.31,5.31,0,0,0,4.9,4.9,5.31,5.31,0,0,0,6.5,1,5.31,5.31,0,0,0,8.1,4.9,5.31,5.31,0,0,0,12,6.5,5.46,5.46,0,0,0,6.5,12Z\"/>\n",
              "  </svg>\n",
              "    </button>\n",
              "    <script>\n",
              "      (() => {\n",
              "      const buttonEl =\n",
              "        document.querySelector('#id_8853f7b6-7132-4988-a11d-59b6edcd5325 button.colab-df-generate');\n",
              "      buttonEl.style.display =\n",
              "        google.colab.kernel.accessAllowed ? 'block' : 'none';\n",
              "\n",
              "      buttonEl.onclick = () => {\n",
              "        google.colab.notebook.generateWithVariable('train_x_scaled');\n",
              "      }\n",
              "      })();\n",
              "    </script>\n",
              "  </div>\n",
              "\n",
              "    </div>\n",
              "  </div>\n"
            ],
            "application/vnd.google.colaboratory.intrinsic+json": {
              "type": "dataframe",
              "variable_name": "train_x_scaled"
            }
          },
          "metadata": {},
          "execution_count": 9
        }
      ],
      "source": [
        "print(train_x_scaled.shape)\n",
        "train_x_scaled\n"
      ]
    },
    {
      "cell_type": "markdown",
      "source": [
        "## 3. Preprocessing and Padding\n",
        "\n",
        "In order to feed the data into the neural network architecture, we need to create a 3d array with the shape (patients, time_steps, features).\n",
        "\n",
        "1. First we need to group all three data sets by patients to process one patients features at a time, convert the features into a list of values for the features for padding, and resets the index to the original data structure.\n",
        "\n",
        "2. We then extract the grouped data and turn it into a list for each patient.\n",
        "\n",
        "3. We then pad the sequences for the train, valid, and test data using the pad_sequences() function from keras. The max length is 454 which is the highest amount of time steps any patient has in the 3 data structures. This is imperative as we want to return the prediction for the sepsis label for each patient in the test data. We also specify that the padding would occur after the original data for each patient and to take on a float data type.\n",
        "\n",
        "4. After we perform the same operations, for train_y and valid_y as there needs to be equal dimensions when feeding into the neural net.\n",
        "\n",
        "Padding does add a lot of observations to the data frame which slows down run time. The max time steps can be changed to focus on certain time steps for patients."
      ],
      "metadata": {
        "id": "JJZ6NJv7QwqH"
      },
      "id": "JJZ6NJv7QwqH"
    },
    {
      "cell_type": "code",
      "execution_count": 10,
      "id": "af6eb8fb-7ba6-4bde-8a7c-55618e5ad323",
      "metadata": {
        "id": "af6eb8fb-7ba6-4bde-8a7c-55618e5ad323"
      },
      "outputs": [],
      "source": [
        "\n",
        "train_grouped = train_x_scaled.groupby('patient')[feature_cols].apply(lambda x: x.values.tolist()).reset_index()\n",
        "valid_grouped = valid_x_scaled.groupby('patient')[feature_cols].apply(lambda x: x.values.tolist()).reset_index()\n",
        "test_grouped = test_x_scaled.groupby('patient')[feature_cols].apply(lambda x: x.values.tolist()).reset_index()\n",
        "\n",
        "# Convert lists to padding format\n",
        "train_sequences = train_grouped[0].tolist()\n",
        "valid_sequences = valid_grouped[0].tolist()\n",
        "test_sequences = test_grouped[0].tolist()\n",
        "# Pad sequences\n",
        "max_time_steps = 454\n",
        "train_x_padded = pad_sequences(train_sequences, maxlen=max_time_steps, padding='post', dtype='float32')\n",
        "valid_x_padded = pad_sequences(valid_sequences, maxlen=max_time_steps, padding='post', dtype='float32')\n",
        "test_x_padded = pad_sequences(test_sequences, maxlen=max_time_steps, padding='post', dtype='float32')\n",
        "\n",
        "\n",
        "train_y_grouped = train_y.groupby('patient')['SepsisLabel'].apply(list).reset_index()\n",
        "valid_y_grouped = valid_y.groupby('patient')['SepsisLabel'].apply(list).reset_index()\n",
        "\n",
        "# Convert the grouped labels to lists (ensuring they are lists of labels)\n",
        "train_y_sequences = train_y_grouped['SepsisLabel'].tolist()\n",
        "valid_y_sequences = valid_y_grouped['SepsisLabel'].tolist()\n",
        "\n",
        "# Step 4: Pad the y sequences just like x\n",
        "train_y_padded = pad_sequences(train_y_sequences, maxlen=max_time_steps, padding='post', dtype='float32', value=0)\n",
        "valid_y_padded = pad_sequences(valid_y_sequences, maxlen=max_time_steps, padding='post', dtype='float32', value=0)\n"
      ]
    },
    {
      "cell_type": "code",
      "execution_count": 12,
      "id": "392f38f2-c492-497f-9d0d-d045e838beec",
      "metadata": {
        "id": "392f38f2-c492-497f-9d0d-d045e838beec",
        "colab": {
          "base_uri": "https://localhost:8080/"
        },
        "outputId": "42a46c46-ae0a-4fce-a285-2e003dd0fa5d"
      },
      "outputs": [
        {
          "output_type": "execute_result",
          "data": {
            "text/plain": [
              "(4236, 454, 35)"
            ]
          },
          "metadata": {},
          "execution_count": 12
        }
      ],
      "source": [
        "valid_x_padded.shape"
      ]
    },
    {
      "cell_type": "code",
      "execution_count": 13,
      "id": "786fad59-99da-4869-9d05-1732a98870f5",
      "metadata": {
        "id": "786fad59-99da-4869-9d05-1732a98870f5",
        "colab": {
          "base_uri": "https://localhost:8080/"
        },
        "outputId": "07f17c5a-45a2-46ef-ffa1-9bb297ba5460"
      },
      "outputs": [
        {
          "output_type": "execute_result",
          "data": {
            "text/plain": [
              "array([[[0.00318701, 0.44627908, 0.02578342, ..., 0.7289796 ,\n",
              "         0.02318709, 0.55      ],\n",
              "        [0.00318701, 0.44627908, 0.02578342, ..., 0.7289796 ,\n",
              "         0.02318709, 0.55833334],\n",
              "        [0.00318701, 0.44627908, 0.02578342, ..., 0.7289796 ,\n",
              "         0.02318709, 0.55833334],\n",
              "        ...,\n",
              "        [0.        , 0.        , 0.        , ..., 0.        ,\n",
              "         0.        , 0.        ],\n",
              "        [0.        , 0.        , 0.        , ..., 0.        ,\n",
              "         0.        , 0.        ],\n",
              "        [0.        , 0.        , 0.        , ..., 0.        ,\n",
              "         0.        , 0.        ]],\n",
              "\n",
              "       [[0.00318701, 0.44918606, 0.02578342, ..., 0.7312245 ,\n",
              "         0.02318709, 0.55      ],\n",
              "        [0.00318701, 0.44918606, 0.02578342, ..., 0.7312245 ,\n",
              "         0.02318709, 0.55      ],\n",
              "        [0.00318701, 0.44918606, 0.02578342, ..., 0.7312245 ,\n",
              "         0.02318709, 0.55      ],\n",
              "        ...,\n",
              "        [0.        , 0.        , 0.        , ..., 0.        ,\n",
              "         0.        , 0.        ],\n",
              "        [0.        , 0.        , 0.        , ..., 0.        ,\n",
              "         0.        , 0.        ],\n",
              "        [0.        , 0.        , 0.        , ..., 0.        ,\n",
              "         0.        , 0.        ]],\n",
              "\n",
              "       [[0.00318701, 0.45348838, 0.02578342, ..., 0.7312245 ,\n",
              "         0.02318709, 0.55      ],\n",
              "        [0.00318701, 0.45348838, 0.02578342, ..., 0.7312245 ,\n",
              "         0.02318709, 0.55      ],\n",
              "        [0.00318701, 0.45348838, 0.02578342, ..., 0.7306122 ,\n",
              "         0.02318709, 0.45      ],\n",
              "        ...,\n",
              "        [0.        , 0.        , 0.        , ..., 0.        ,\n",
              "         0.        , 0.        ],\n",
              "        [0.        , 0.        , 0.        , ..., 0.        ,\n",
              "         0.        , 0.        ],\n",
              "        [0.        , 0.        , 0.        , ..., 0.        ,\n",
              "         0.        , 0.        ]],\n",
              "\n",
              "       ...,\n",
              "\n",
              "       [[0.00318701, 0.5116279 , 0.02578342, ..., 0.7312245 ,\n",
              "         0.02318709, 0.55      ],\n",
              "        [0.00318701, 0.5116279 , 0.02578342, ..., 0.7312245 ,\n",
              "         0.02318709, 0.55      ],\n",
              "        [0.00318701, 0.5116279 , 0.02578342, ..., 0.7312245 ,\n",
              "         0.02318709, 0.55      ],\n",
              "        ...,\n",
              "        [0.        , 0.        , 0.        , ..., 0.        ,\n",
              "         0.        , 0.        ],\n",
              "        [0.        , 0.        , 0.        , ..., 0.        ,\n",
              "         0.        , 0.        ],\n",
              "        [0.        , 0.        , 0.        , ..., 0.        ,\n",
              "         0.        , 0.        ]],\n",
              "\n",
              "       [[0.00318701, 0.34930232, 0.02578342, ..., 0.7312245 ,\n",
              "         0.02318709, 0.55      ],\n",
              "        [0.00318701, 0.34930232, 0.02578342, ..., 0.7289796 ,\n",
              "         0.02318709, 0.53333336],\n",
              "        [0.00318701, 0.34930232, 0.02578342, ..., 0.7289796 ,\n",
              "         0.02318709, 0.53333336],\n",
              "        ...,\n",
              "        [0.        , 0.        , 0.        , ..., 0.        ,\n",
              "         0.        , 0.        ],\n",
              "        [0.        , 0.        , 0.        , ..., 0.        ,\n",
              "         0.        , 0.        ],\n",
              "        [0.        , 0.        , 0.        , ..., 0.        ,\n",
              "         0.        , 0.        ]],\n",
              "\n",
              "       [[0.00318701, 0.64290696, 0.02578342, ..., 0.7312245 ,\n",
              "         0.02318709, 0.55      ],\n",
              "        [0.00318701, 0.64290696, 0.02578342, ..., 0.7312245 ,\n",
              "         0.02318709, 0.55      ],\n",
              "        [0.00318701, 0.64290696, 0.02578342, ..., 0.75857145,\n",
              "         0.02318709, 0.55      ],\n",
              "        ...,\n",
              "        [0.        , 0.        , 0.        , ..., 0.        ,\n",
              "         0.        , 0.        ],\n",
              "        [0.        , 0.        , 0.        , ..., 0.        ,\n",
              "         0.        , 0.        ],\n",
              "        [0.        , 0.        , 0.        , ..., 0.        ,\n",
              "         0.        , 0.        ]]], dtype=float32)"
            ]
          },
          "metadata": {},
          "execution_count": 13
        }
      ],
      "source": [
        "train_x_padded"
      ]
    },
    {
      "cell_type": "markdown",
      "source": [
        "We need to ensure our train and valid sepsis label is the correct shape when feeding it into the neural net. Here we reshape it to be (patients, time steps, 1) for the binary prediction."
      ],
      "metadata": {
        "id": "bAyQPcpVUFUX"
      },
      "id": "bAyQPcpVUFUX"
    },
    {
      "cell_type": "code",
      "execution_count": 11,
      "id": "0f36fac9-ceea-40b4-a6ba-44c5c6ac8277",
      "metadata": {
        "id": "0f36fac9-ceea-40b4-a6ba-44c5c6ac8277",
        "colab": {
          "base_uri": "https://localhost:8080/"
        },
        "outputId": "a672f5bd-8a4c-4d8f-a9bc-a4529b1e29f5"
      },
      "outputs": [
        {
          "output_type": "stream",
          "name": "stdout",
          "text": [
            "[[[0.]\n",
            "  [0.]\n",
            "  [0.]\n",
            "  ...\n",
            "  [0.]\n",
            "  [0.]\n",
            "  [0.]]\n",
            "\n",
            " [[0.]\n",
            "  [0.]\n",
            "  [0.]\n",
            "  ...\n",
            "  [0.]\n",
            "  [0.]\n",
            "  [0.]]\n",
            "\n",
            " [[0.]\n",
            "  [0.]\n",
            "  [0.]\n",
            "  ...\n",
            "  [0.]\n",
            "  [0.]\n",
            "  [0.]]\n",
            "\n",
            " ...\n",
            "\n",
            " [[0.]\n",
            "  [0.]\n",
            "  [0.]\n",
            "  ...\n",
            "  [0.]\n",
            "  [0.]\n",
            "  [0.]]\n",
            "\n",
            " [[0.]\n",
            "  [0.]\n",
            "  [0.]\n",
            "  ...\n",
            "  [0.]\n",
            "  [0.]\n",
            "  [0.]]\n",
            "\n",
            " [[0.]\n",
            "  [0.]\n",
            "  [0.]\n",
            "  ...\n",
            "  [0.]\n",
            "  [0.]\n",
            "  [0.]]]\n"
          ]
        }
      ],
      "source": [
        "train_y_padded = train_y_padded.reshape(-1, 454)\n",
        "valid_y_padded = valid_y_padded.reshape(-1,454)\n",
        "train_y_reshaped = train_y_padded.reshape((-1, 454, 1))\n",
        "valid_y_reshaped = valid_y_padded.reshape((-1, 454, 1))\n",
        "\n",
        "\n",
        "print(train_y_reshaped)"
      ]
    },
    {
      "cell_type": "markdown",
      "source": [
        "## 4. CNN-LSTM Model\n",
        "\n",
        "Our framework is composed of a masking layer to mask padded observations, 4 convolution layers, 2 LSTM layers, 2 time distributed fully connected layers. To build this neural network, we started with a simple 1 convolution layer 1 LSTM layer and 1 time distributed fully connected layers. We then built up each aspect of the architecture one layer at a time after analyzing the convergence and performance of the model."
      ],
      "metadata": {
        "id": "hQ8M01BUV5ie"
      },
      "id": "hQ8M01BUV5ie"
    },
    {
      "cell_type": "code",
      "execution_count": 12,
      "id": "75ddfb7b-c61e-43cc-9a3d-34e884af7907",
      "metadata": {
        "id": "75ddfb7b-c61e-43cc-9a3d-34e884af7907"
      },
      "outputs": [],
      "source": [
        "\n",
        "def create_cnn_lstm_model(input_shape, output_timesteps=454):\n",
        "    model = Sequential()\n",
        "\n",
        "\n",
        "    # CNN layers\n",
        "    model.add(Masking(mask_value=0., input_shape=input_shape))\n",
        "    model.add(Conv1D(filters=64, kernel_size=3, activation='relu', padding='same'))\n",
        "    model.add(BatchNormalization())\n",
        "    #model.add(Dropout(.2))\n",
        "    #model.add(MaxPooling1D(pool_size=2))\n",
        "\n",
        "    model.add(Conv1D(filters=128, kernel_size=3, activation='relu', padding='same'))\n",
        "    model.add(BatchNormalization())\n",
        "    #model.add(Dropout(.2))\n",
        "    #model.add(MaxPooling1D(pool_size=2))\n",
        "\n",
        "    model.add(Conv1D(filters=256, kernel_size=3, activation='relu', padding='same'))\n",
        "    model.add(BatchNormalization())\n",
        "    model.add(Dropout(.2))\n",
        "    #model.add(MaxPooling1D(pool_size=1))\n",
        "\n",
        "    model.add(Conv1D(filters=512, kernel_size=3, activation='relu', padding='same'))\n",
        "    model.add(BatchNormalization())\n",
        "    model.add(Dropout(.2))\n",
        "    #model.add(MaxPooling1D(pool_size=1))\n",
        "\n",
        "\n",
        "\n",
        "\n",
        "    # Bidirectional LSTM layers\n",
        "    model.add(Bidirectional(LSTM(100, return_sequences=True, dropout=0.2, recurrent_dropout=0.2)))\n",
        "    model.add(Bidirectional(LSTM(200, return_sequences=True, dropout=0.2, recurrent_dropout=0.2)))\n",
        "    #model.add(Bidirectional(LSTM(400, return_sequences=True, dropout = 0.3, recurrent_dropout=.3)))\n",
        "    #model.add(Bidirectional(LSTM(400, return_sequences=False, dropout = 0.3, recurrent_dropout=.3)))\n",
        "\n",
        "\n",
        "   # Dense layers\n",
        "\n",
        "    model.add(TimeDistributed(Dense(100, activation='relu')))\n",
        "    model.add(TimeDistributed(Dropout(0.5)))\n",
        "\n",
        "    # Final dense layer\n",
        "    model.add(TimeDistributed(Dense(1, activation='sigmoid')))\n",
        "\n",
        "\n",
        "    return model"
      ]
    },
    {
      "cell_type": "markdown",
      "source": [
        "### 4a. Architecture and Hyperparameters\n",
        "\n",
        "1. The model intially takes on the shape of the time steps and the features. This specifies that each patient will have 454 time steps and 35 features. The masking layer is so that the neural network focuses on non padded observations.\n",
        "2. The first convolution layer has 64 filters and a kernel size of 3. The filters than incease by 2x the previous layers filters. Batch normalization to normalize the input of the next layer is done after each layer. A relu activation function is also used for each layer. We specify that padding should stay the same and there is no max pooling layers to decrease the dimensionality because we cant loose the number of time steps per patient to get a prediction for each patient at each time step. Batch dropout for the last two CNN layers is set to 20% meaning 20% of the filters will drop out as a form of regularization. While batch normalization does regularlize by not allowing for covariate shifts, additional batch droput was needed for the last two layers.\n",
        "3. LSTM layers of 100 and 200 nodes each. Dropout and recurrent dropout applied for regularization.\n",
        "4. Time Distributed Dense Layer 100 nodes.\n",
        "5. Sigmoid activation output layer.\n"
      ],
      "metadata": {
        "id": "84odU8B2XKYh"
      },
      "id": "84odU8B2XKYh"
    },
    {
      "cell_type": "code",
      "execution_count": 13,
      "id": "1c3d71ab-dc80-4e75-921a-33db2458ee1f",
      "metadata": {
        "id": "1c3d71ab-dc80-4e75-921a-33db2458ee1f",
        "colab": {
          "base_uri": "https://localhost:8080/"
        },
        "outputId": "046e3536-2fbf-489d-98d3-86e21ffdf92a"
      },
      "outputs": [
        {
          "output_type": "stream",
          "name": "stdout",
          "text": [
            "(454, 35)\n",
            "Model: \"sequential\"\n",
            "_________________________________________________________________\n",
            " Layer (type)                Output Shape              Param #   \n",
            "=================================================================\n",
            " masking (Masking)           (None, 454, 35)           0         \n",
            "                                                                 \n",
            " conv1d (Conv1D)             (None, 454, 64)           6784      \n",
            "                                                                 \n",
            " batch_normalization (Batch  (None, 454, 64)           256       \n",
            " Normalization)                                                  \n",
            "                                                                 \n",
            " conv1d_1 (Conv1D)           (None, 454, 128)          24704     \n",
            "                                                                 \n",
            " batch_normalization_1 (Bat  (None, 454, 128)          512       \n",
            " chNormalization)                                                \n",
            "                                                                 \n",
            " conv1d_2 (Conv1D)           (None, 454, 256)          98560     \n",
            "                                                                 \n",
            " batch_normalization_2 (Bat  (None, 454, 256)          1024      \n",
            " chNormalization)                                                \n",
            "                                                                 \n",
            " dropout (Dropout)           (None, 454, 256)          0         \n",
            "                                                                 \n",
            " conv1d_3 (Conv1D)           (None, 454, 512)          393728    \n",
            "                                                                 \n",
            " batch_normalization_3 (Bat  (None, 454, 512)          2048      \n",
            " chNormalization)                                                \n",
            "                                                                 \n",
            " dropout_1 (Dropout)         (None, 454, 512)          0         \n",
            "                                                                 \n",
            " bidirectional (Bidirection  (None, 454, 200)          490400    \n",
            " al)                                                             \n",
            "                                                                 \n",
            " bidirectional_1 (Bidirecti  (None, 454, 400)          641600    \n",
            " onal)                                                           \n",
            "                                                                 \n",
            " time_distributed (TimeDist  (None, 454, 100)          40100     \n",
            " ributed)                                                        \n",
            "                                                                 \n",
            " time_distributed_1 (TimeDi  (None, 454, 100)          0         \n",
            " stributed)                                                      \n",
            "                                                                 \n",
            " time_distributed_2 (TimeDi  (None, 454, 1)            101       \n",
            " stributed)                                                      \n",
            "                                                                 \n",
            "=================================================================\n",
            "Total params: 1699817 (6.48 MB)\n",
            "Trainable params: 1697897 (6.48 MB)\n",
            "Non-trainable params: 1920 (7.50 KB)\n",
            "_________________________________________________________________\n"
          ]
        }
      ],
      "source": [
        "\n",
        "input_shape = (train_x_padded.shape[1], train_x_padded.shape[2])\n",
        "print(input_shape)\n",
        "model = create_cnn_lstm_model(input_shape)\n",
        "learning_rate = 0.00001\n",
        "optimizer = Adam(learning_rate=learning_rate)\n",
        "model.compile(optimizer=optimizer, loss='binary_crossentropy')\n",
        "model.summary()"
      ]
    },
    {
      "cell_type": "code",
      "execution_count": null,
      "id": "2c6831df-9487-4439-8e6e-c1a6c8bd60ec",
      "metadata": {
        "id": "2c6831df-9487-4439-8e6e-c1a6c8bd60ec",
        "colab": {
          "base_uri": "https://localhost:8080/"
        },
        "outputId": "c79ad303-ca9b-43a0-b90a-d069c4432607"
      },
      "outputs": [
        {
          "output_type": "stream",
          "name": "stdout",
          "text": [
            "Epoch 1/10\n",
            "375/375 [==============================] - 712s 2s/step - loss: 0.1821 - val_loss: 0.9917 - lr: 1.0000e-05\n",
            "Epoch 2/10\n",
            "375/375 [==============================] - 691s 2s/step - loss: 0.0956 - val_loss: 0.1148 - lr: 1.0000e-05\n",
            "Epoch 3/10\n",
            "375/375 [==============================] - 694s 2s/step - loss: 0.0665 - val_loss: 0.0198 - lr: 1.0000e-05\n",
            "Epoch 4/10\n",
            "375/375 [==============================] - 696s 2s/step - loss: 0.0469 - val_loss: 0.0187 - lr: 1.0000e-05\n",
            "Epoch 5/10\n",
            "375/375 [==============================] - ETA: 0s - loss: 0.0387\n",
            "Epoch 5: ReduceLROnPlateau reducing learning rate to 1e-06.\n",
            "375/375 [==============================] - 695s 2s/step - loss: 0.0387 - val_loss: 0.0192 - lr: 1.0000e-05\n",
            "Epoch 6/10\n",
            "375/375 [==============================] - 697s 2s/step - loss: 0.0355 - val_loss: 0.0184 - lr: 1.0000e-06\n",
            "Epoch 7/10\n",
            "375/375 [==============================] - 697s 2s/step - loss: 0.0349 - val_loss: 0.0179 - lr: 1.0000e-06\n",
            "Epoch 8/10\n",
            "375/375 [==============================] - 694s 2s/step - loss: 0.0345 - val_loss: 0.0181 - lr: 1.0000e-06\n",
            "Epoch 9/10\n",
            "375/375 [==============================] - 695s 2s/step - loss: 0.0343 - val_loss: 0.0178 - lr: 1.0000e-06\n",
            "Epoch 10/10\n",
            "375/375 [==============================] - 696s 2s/step - loss: 0.0336 - val_loss: 0.0180 - lr: 1.0000e-06\n"
          ]
        }
      ],
      "source": [
        "early_stopping = EarlyStopping(\n",
        "    monitor='val_loss',\n",
        "    patience=4,\n",
        "    restore_best_weights=True\n",
        ")\n",
        "\n",
        "reduce_lr = ReduceLROnPlateau(\n",
        "    monitor='val_loss',\n",
        "    factor=0.1,\n",
        "    patience=1,\n",
        "    min_lr=1e-6,\n",
        "    verbose=1\n",
        ")\n",
        "\n",
        "class_weights = {0: 1, 1: 3}\n",
        "\n",
        "\n",
        "history = model.fit(train_x_padded, train_y_reshaped, epochs = 10, class_weight = class_weights,  batch_size=64, validation_data=(valid_x_padded, valid_y_reshaped), callbacks = [reduce_lr])"
      ]
    },
    {
      "cell_type": "markdown",
      "source": [
        "## 5. Saving Model, Importing Weights, and Creating a Visualization for Computational Graph"
      ],
      "metadata": {
        "id": "4sJ4616vp5Dy"
      },
      "id": "4sJ4616vp5Dy"
    },
    {
      "cell_type": "code",
      "source": [
        "model.save('cnn_lstm_model', save_format='tf')\n",
        "\n",
        "import shutil\n",
        "\n",
        "shutil.make_archive('cnn_lstm_model', 'zip', 'cnn_lstm_model')\n",
        "\n",
        "from google.colab import files\n",
        "\n",
        "\n",
        "files.download('cnn_lstm_model.zip')"
      ],
      "metadata": {
        "id": "ZNRbvcyshUNH"
      },
      "id": "ZNRbvcyshUNH",
      "execution_count": null,
      "outputs": []
    },
    {
      "cell_type": "code",
      "source": [
        "uploaded = files.upload()\n"
      ],
      "metadata": {
        "id": "l5l9yWhORA11",
        "colab": {
          "base_uri": "https://localhost:8080/",
          "height": 94
        },
        "outputId": "b3465fd4-56f8-41c7-b0a6-fcf0def15faa"
      },
      "id": "l5l9yWhORA11",
      "execution_count": 14,
      "outputs": [
        {
          "output_type": "display_data",
          "data": {
            "text/plain": [
              "<IPython.core.display.HTML object>"
            ],
            "text/html": [
              "\n",
              "     <input type=\"file\" id=\"files-d2435425-2f21-41aa-9a1d-9ccc0a4fc821\" name=\"files[]\" multiple disabled\n",
              "        style=\"border:none\" />\n",
              "     <output id=\"result-d2435425-2f21-41aa-9a1d-9ccc0a4fc821\">\n",
              "      Upload widget is only available when the cell has been executed in the\n",
              "      current browser session. Please rerun this cell to enable.\n",
              "      </output>\n",
              "      <script>// Copyright 2017 Google LLC\n",
              "//\n",
              "// Licensed under the Apache License, Version 2.0 (the \"License\");\n",
              "// you may not use this file except in compliance with the License.\n",
              "// You may obtain a copy of the License at\n",
              "//\n",
              "//      http://www.apache.org/licenses/LICENSE-2.0\n",
              "//\n",
              "// Unless required by applicable law or agreed to in writing, software\n",
              "// distributed under the License is distributed on an \"AS IS\" BASIS,\n",
              "// WITHOUT WARRANTIES OR CONDITIONS OF ANY KIND, either express or implied.\n",
              "// See the License for the specific language governing permissions and\n",
              "// limitations under the License.\n",
              "\n",
              "/**\n",
              " * @fileoverview Helpers for google.colab Python module.\n",
              " */\n",
              "(function(scope) {\n",
              "function span(text, styleAttributes = {}) {\n",
              "  const element = document.createElement('span');\n",
              "  element.textContent = text;\n",
              "  for (const key of Object.keys(styleAttributes)) {\n",
              "    element.style[key] = styleAttributes[key];\n",
              "  }\n",
              "  return element;\n",
              "}\n",
              "\n",
              "// Max number of bytes which will be uploaded at a time.\n",
              "const MAX_PAYLOAD_SIZE = 100 * 1024;\n",
              "\n",
              "function _uploadFiles(inputId, outputId) {\n",
              "  const steps = uploadFilesStep(inputId, outputId);\n",
              "  const outputElement = document.getElementById(outputId);\n",
              "  // Cache steps on the outputElement to make it available for the next call\n",
              "  // to uploadFilesContinue from Python.\n",
              "  outputElement.steps = steps;\n",
              "\n",
              "  return _uploadFilesContinue(outputId);\n",
              "}\n",
              "\n",
              "// This is roughly an async generator (not supported in the browser yet),\n",
              "// where there are multiple asynchronous steps and the Python side is going\n",
              "// to poll for completion of each step.\n",
              "// This uses a Promise to block the python side on completion of each step,\n",
              "// then passes the result of the previous step as the input to the next step.\n",
              "function _uploadFilesContinue(outputId) {\n",
              "  const outputElement = document.getElementById(outputId);\n",
              "  const steps = outputElement.steps;\n",
              "\n",
              "  const next = steps.next(outputElement.lastPromiseValue);\n",
              "  return Promise.resolve(next.value.promise).then((value) => {\n",
              "    // Cache the last promise value to make it available to the next\n",
              "    // step of the generator.\n",
              "    outputElement.lastPromiseValue = value;\n",
              "    return next.value.response;\n",
              "  });\n",
              "}\n",
              "\n",
              "/**\n",
              " * Generator function which is called between each async step of the upload\n",
              " * process.\n",
              " * @param {string} inputId Element ID of the input file picker element.\n",
              " * @param {string} outputId Element ID of the output display.\n",
              " * @return {!Iterable<!Object>} Iterable of next steps.\n",
              " */\n",
              "function* uploadFilesStep(inputId, outputId) {\n",
              "  const inputElement = document.getElementById(inputId);\n",
              "  inputElement.disabled = false;\n",
              "\n",
              "  const outputElement = document.getElementById(outputId);\n",
              "  outputElement.innerHTML = '';\n",
              "\n",
              "  const pickedPromise = new Promise((resolve) => {\n",
              "    inputElement.addEventListener('change', (e) => {\n",
              "      resolve(e.target.files);\n",
              "    });\n",
              "  });\n",
              "\n",
              "  const cancel = document.createElement('button');\n",
              "  inputElement.parentElement.appendChild(cancel);\n",
              "  cancel.textContent = 'Cancel upload';\n",
              "  const cancelPromise = new Promise((resolve) => {\n",
              "    cancel.onclick = () => {\n",
              "      resolve(null);\n",
              "    };\n",
              "  });\n",
              "\n",
              "  // Wait for the user to pick the files.\n",
              "  const files = yield {\n",
              "    promise: Promise.race([pickedPromise, cancelPromise]),\n",
              "    response: {\n",
              "      action: 'starting',\n",
              "    }\n",
              "  };\n",
              "\n",
              "  cancel.remove();\n",
              "\n",
              "  // Disable the input element since further picks are not allowed.\n",
              "  inputElement.disabled = true;\n",
              "\n",
              "  if (!files) {\n",
              "    return {\n",
              "      response: {\n",
              "        action: 'complete',\n",
              "      }\n",
              "    };\n",
              "  }\n",
              "\n",
              "  for (const file of files) {\n",
              "    const li = document.createElement('li');\n",
              "    li.append(span(file.name, {fontWeight: 'bold'}));\n",
              "    li.append(span(\n",
              "        `(${file.type || 'n/a'}) - ${file.size} bytes, ` +\n",
              "        `last modified: ${\n",
              "            file.lastModifiedDate ? file.lastModifiedDate.toLocaleDateString() :\n",
              "                                    'n/a'} - `));\n",
              "    const percent = span('0% done');\n",
              "    li.appendChild(percent);\n",
              "\n",
              "    outputElement.appendChild(li);\n",
              "\n",
              "    const fileDataPromise = new Promise((resolve) => {\n",
              "      const reader = new FileReader();\n",
              "      reader.onload = (e) => {\n",
              "        resolve(e.target.result);\n",
              "      };\n",
              "      reader.readAsArrayBuffer(file);\n",
              "    });\n",
              "    // Wait for the data to be ready.\n",
              "    let fileData = yield {\n",
              "      promise: fileDataPromise,\n",
              "      response: {\n",
              "        action: 'continue',\n",
              "      }\n",
              "    };\n",
              "\n",
              "    // Use a chunked sending to avoid message size limits. See b/62115660.\n",
              "    let position = 0;\n",
              "    do {\n",
              "      const length = Math.min(fileData.byteLength - position, MAX_PAYLOAD_SIZE);\n",
              "      const chunk = new Uint8Array(fileData, position, length);\n",
              "      position += length;\n",
              "\n",
              "      const base64 = btoa(String.fromCharCode.apply(null, chunk));\n",
              "      yield {\n",
              "        response: {\n",
              "          action: 'append',\n",
              "          file: file.name,\n",
              "          data: base64,\n",
              "        },\n",
              "      };\n",
              "\n",
              "      let percentDone = fileData.byteLength === 0 ?\n",
              "          100 :\n",
              "          Math.round((position / fileData.byteLength) * 100);\n",
              "      percent.textContent = `${percentDone}% done`;\n",
              "\n",
              "    } while (position < fileData.byteLength);\n",
              "  }\n",
              "\n",
              "  // All done.\n",
              "  yield {\n",
              "    response: {\n",
              "      action: 'complete',\n",
              "    }\n",
              "  };\n",
              "}\n",
              "\n",
              "scope.google = scope.google || {};\n",
              "scope.google.colab = scope.google.colab || {};\n",
              "scope.google.colab._files = {\n",
              "  _uploadFiles,\n",
              "  _uploadFilesContinue,\n",
              "};\n",
              "})(self);\n",
              "</script> "
            ]
          },
          "metadata": {}
        },
        {
          "output_type": "stream",
          "name": "stdout",
          "text": [
            "Saving cnn_lstm_model(1).zip to cnn_lstm_model(1) (1).zip\n"
          ]
        }
      ]
    },
    {
      "cell_type": "code",
      "source": [
        "import zipfile\n",
        "\n",
        "with zipfile.ZipFile(\"cnn_lstm_model(1).zip\", 'r') as zip_ref:\n",
        "    zip_ref.extractall(\"cnn_lstm_model(1)\")\n",
        "\n",
        "model = tf.keras.models.load_model(\"cnn_lstm_model(1)\")"
      ],
      "metadata": {
        "id": "KRPpTZIKTkIM"
      },
      "id": "KRPpTZIKTkIM",
      "execution_count": 15,
      "outputs": []
    },
    {
      "cell_type": "code",
      "source": [
        "\n",
        "plot_model(model, to_file='/content/model_architecture.png', show_shapes=True, show_layer_names=True)\n",
        "files.download('/content/model_architecture.png')"
      ],
      "metadata": {
        "id": "WWv6e1Uz8zgo"
      },
      "id": "WWv6e1Uz8zgo",
      "execution_count": null,
      "outputs": []
    },
    {
      "cell_type": "code",
      "source": [
        "import pydot\n",
        "from tensorflow.keras.utils import model_to_dot\n",
        "\n",
        "dot_graph = model_to_dot(model, show_shapes=True, show_layer_names=True)\n",
        "\n",
        "\n",
        "dot_graph.set_dpi(300)\n",
        "dot_graph.write_png(\"/content/model_architecture_high_res.png\")\n",
        "files.download(\"/content/model_architecture_high_res.png\")"
      ],
      "metadata": {
        "colab": {
          "base_uri": "https://localhost:8080/",
          "height": 37
        },
        "id": "5uG3VVXVGHap",
        "outputId": "9e76e5f2-44d8-4fbd-dbd4-955e9266278f"
      },
      "id": "5uG3VVXVGHap",
      "execution_count": 23,
      "outputs": [
        {
          "output_type": "display_data",
          "data": {
            "text/plain": [
              "<IPython.core.display.Javascript object>"
            ],
            "application/javascript": [
              "\n",
              "    async function download(id, filename, size) {\n",
              "      if (!google.colab.kernel.accessAllowed) {\n",
              "        return;\n",
              "      }\n",
              "      const div = document.createElement('div');\n",
              "      const label = document.createElement('label');\n",
              "      label.textContent = `Downloading \"${filename}\": `;\n",
              "      div.appendChild(label);\n",
              "      const progress = document.createElement('progress');\n",
              "      progress.max = size;\n",
              "      div.appendChild(progress);\n",
              "      document.body.appendChild(div);\n",
              "\n",
              "      const buffers = [];\n",
              "      let downloaded = 0;\n",
              "\n",
              "      const channel = await google.colab.kernel.comms.open(id);\n",
              "      // Send a message to notify the kernel that we're ready.\n",
              "      channel.send({})\n",
              "\n",
              "      for await (const message of channel.messages) {\n",
              "        // Send a message to notify the kernel that we're ready.\n",
              "        channel.send({})\n",
              "        if (message.buffers) {\n",
              "          for (const buffer of message.buffers) {\n",
              "            buffers.push(buffer);\n",
              "            downloaded += buffer.byteLength;\n",
              "            progress.value = downloaded;\n",
              "          }\n",
              "        }\n",
              "      }\n",
              "      const blob = new Blob(buffers, {type: 'application/binary'});\n",
              "      const a = document.createElement('a');\n",
              "      a.href = window.URL.createObjectURL(blob);\n",
              "      a.download = filename;\n",
              "      div.appendChild(a);\n",
              "      a.click();\n",
              "      div.remove();\n",
              "    }\n",
              "  "
            ]
          },
          "metadata": {}
        },
        {
          "output_type": "display_data",
          "data": {
            "text/plain": [
              "<IPython.core.display.Javascript object>"
            ],
            "application/javascript": [
              "download(\"download_9360bdef-4096-44bb-8c37-a8af9960067c\", \"model_architecture_high_res.png\", 493559)"
            ]
          },
          "metadata": {}
        }
      ]
    },
    {
      "cell_type": "code",
      "source": [],
      "metadata": {
        "id": "Mg3Ki2J-qSB5"
      },
      "id": "Mg3Ki2J-qSB5",
      "execution_count": null,
      "outputs": []
    },
    {
      "cell_type": "markdown",
      "source": [
        "## 6. Convergence and Initial Performance\n",
        "   - 50% threshold\n",
        "   - Padded included"
      ],
      "metadata": {
        "id": "7dckyO88qS6a"
      },
      "id": "7dckyO88qS6a"
    },
    {
      "cell_type": "code",
      "execution_count": null,
      "id": "ee6dbd68-c5a6-482a-95c6-efcfbe881191",
      "metadata": {
        "id": "ee6dbd68-c5a6-482a-95c6-efcfbe881191",
        "colab": {
          "base_uri": "https://localhost:8080/",
          "height": 584
        },
        "outputId": "13e10e8a-5ab9-4805-bf6d-95c57c7ec762"
      },
      "outputs": [
        {
          "output_type": "display_data",
          "data": {
            "text/plain": [
              "<Figure size 1200x600 with 1 Axes>"
            ],
            "image/png": "[encoded data removed]"
          },
          "metadata": {}
        }
      ],
      "source": [
        "\n",
        "plt.figure(figsize=(12, 6))\n",
        "\n",
        "# Loss plot\n",
        "plt.subplot(1, 2, 1)\n",
        "plt.plot(history.history['loss'], label='Train Loss')\n",
        "plt.plot(history.history['val_loss'], label='Validation Loss')\n",
        "plt.title('Model Loss')\n",
        "plt.xlabel('Epoch')\n",
        "plt.ylabel('Loss')\n",
        "plt.legend()\n",
        "plt.grid()"
      ]
    },
    {
      "cell_type": "code",
      "execution_count": null,
      "id": "fc372672-ee9b-4290-9990-f52bcc09e352",
      "metadata": {
        "id": "fc372672-ee9b-4290-9990-f52bcc09e352",
        "outputId": "0710f986-10af-4c67-a2ab-1d0f4d47a858",
        "colab": {
          "base_uri": "https://localhost:8080/"
        }
      },
      "outputs": [
        {
          "output_type": "stream",
          "name": "stdout",
          "text": [
            "Shape of train_x_padded before prediction: (23999, 454, 36)\n"
          ]
        }
      ],
      "source": [
        "print(\"Shape of train_x_padded before prediction:\", train_x_padded.shape)"
      ]
    },
    {
      "cell_type": "code",
      "execution_count": null,
      "id": "31ee96d6-9998-4cce-b3a8-80471283e4ef",
      "metadata": {
        "id": "31ee96d6-9998-4cce-b3a8-80471283e4ef",
        "colab": {
          "base_uri": "https://localhost:8080/"
        },
        "outputId": "9088201a-e590-429e-bc2b-5fe14eaf644e"
      },
      "outputs": [
        {
          "output_type": "stream",
          "name": "stdout",
          "text": [
            "750/750 [==============================] - 197s 263ms/step\n",
            "(23999, 454, 1)\n",
            "23999\n",
            "(10895546, 3)\n"
          ]
        },
        {
          "output_type": "execute_result",
          "data": {
            "text/plain": [
              "(10895546, 3)"
            ]
          },
          "metadata": {},
          "execution_count": 87
        }
      ],
      "source": [
        "# Predictions Train\n",
        "\n",
        "\n",
        "y_pred_prob = model.predict(train_x_padded)\n",
        "print(y_pred_prob.shape)\n",
        "\n",
        "y_pred = (y_pred_prob > 0.5).astype(\"int32\")\n",
        "print(len(y_pred))\n",
        "predictions_with_patient_ids = []\n",
        "observed_with_patient_ids = []\n",
        "\n",
        "for index, row in train_y_grouped.iterrows():\n",
        "    patient_id = row['patient']\n",
        "    patient_predictions = y_pred_prob[index]\n",
        "    for time_step, pred in enumerate(patient_predictions):\n",
        "        predictions_with_patient_ids.append({'patient': patient_id, 'time_step': time_step, 'prediction': pred})\n",
        "for index, row in train_y_grouped.iterrows():\n",
        "    patient_id = row['patient']\n",
        "    patient_observed = train_y_padded[index]\n",
        "    for time_step, obs in enumerate(patient_observed):\n",
        "        observed_with_patient_ids.append({'patient': patient_id, 'time_step': time_step, 'observation': obs})\n",
        "\n",
        "# Convert to DataFrame\n",
        "predictions_train_df = pd.DataFrame(predictions_with_patient_ids)\n",
        "print(predictions_train_df.shape)\n",
        "observed_train_df = pd.DataFrame(observed_with_patient_ids)\n",
        "observed_train_df.shape"
      ]
    },
    {
      "cell_type": "code",
      "execution_count": null,
      "id": "36KIC3y93CX1",
      "metadata": {
        "id": "36KIC3y93CX1"
      },
      "outputs": [],
      "source": [
        "predictions_train_df['prediction'] = predictions_train_df['prediction'].astype('int')"
      ]
    },
    {
      "cell_type": "code",
      "execution_count": null,
      "id": "2f7ddb5b-e7f3-47fc-890e-0aa6a69420d6",
      "metadata": {
        "id": "2f7ddb5b-e7f3-47fc-890e-0aa6a69420d6",
        "colab": {
          "base_uri": "https://localhost:8080/"
        },
        "outputId": "af2eaabf-cf38-4989-ff7a-a5cf606424a6"
      },
      "outputs": [
        {
          "output_type": "stream",
          "name": "stdout",
          "text": [
            "accuracy_score 0.9818372571691222\n",
            "[[10554726    43065]\n",
            " [  154828   142927]]\n",
            "0.48001544894292286\n",
            "0.7684577831304572\n",
            "F1 Score: 0.5909163260960791\n"
          ]
        }
      ],
      "source": [
        "# Training\n",
        "\n",
        "cf = confusion_matrix(observed_train_df['observation'],predictions_train_df['prediction'] )\n",
        "rc  = recall_score(observed_train_df['observation'],predictions_train_df['prediction'] )\n",
        "pc = precision_score(observed_train_df['observation'],predictions_train_df['prediction'] )\n",
        "f1 = f1_score(observed_train_df['observation'],predictions_train_df['prediction'] )\n",
        "ac = accuracy_score(observed_train_df['observation'],predictions_train_df['prediction'] )\n",
        "print('accuracy_score', ac)\n",
        "print(cf)\n",
        "print(rc)\n",
        "print(pc)\n",
        "print(f\"F1 Score: {f1}\")"
      ]
    },
    {
      "cell_type": "code",
      "execution_count": null,
      "id": "e427fee6-6984-4da4-906a-e045c6b2f8c2",
      "metadata": {
        "id": "e427fee6-6984-4da4-906a-e045c6b2f8c2",
        "colab": {
          "base_uri": "https://localhost:8080/"
        },
        "outputId": "3bfef004-6905-42bc-d7cd-e99b717215ab"
      },
      "outputs": [
        {
          "output_type": "stream",
          "name": "stdout",
          "text": [
            "133/133 [==============================] - 37s 269ms/step\n",
            "4236\n",
            "(1923144, 3)\n"
          ]
        },
        {
          "output_type": "execute_result",
          "data": {
            "text/plain": [
              "(1923144, 3)"
            ]
          },
          "metadata": {},
          "execution_count": 54
        }
      ],
      "source": [
        "#predictions Valid\n",
        "\n",
        "y_pred_prob = model.predict(valid_x_padded)\n",
        "\n",
        "\n",
        "y_pred = (y_pred_prob > 0.5).astype(\"int32\")\n",
        "print(len(y_pred))\n",
        "predictions_with_patient_ids = []\n",
        "observed_with_patient_ids = []\n",
        "\n",
        "for index, row in valid_y_grouped.iterrows():\n",
        "    patient_id = row['patient']\n",
        "    patient_predictions = y_pred[index]\n",
        "    for time_step, pred in enumerate(patient_predictions):\n",
        "        predictions_with_patient_ids.append({'patient': patient_id, 'time_step': time_step, 'prediction': pred})\n",
        "for index, row in valid_y_grouped.iterrows():\n",
        "    patient_id = row['patient']\n",
        "    patient_observed = valid_y_padded[index]\n",
        "    for time_step, obs in enumerate(patient_observed):\n",
        "        observed_with_patient_ids.append({'patient': patient_id, 'time_step': time_step, 'observation': obs})\n",
        "\n",
        "# Convert to DataFrame\n",
        "predictions_df = pd.DataFrame(predictions_with_patient_ids)\n",
        "print(predictions_df.shape)\n",
        "observed_df = pd.DataFrame(observed_with_patient_ids)\n",
        "observed_df.shape"
      ]
    },
    {
      "cell_type": "code",
      "execution_count": null,
      "id": "6474d0df-7680-4a98-9612-bbc120b6f638",
      "metadata": {
        "id": "6474d0df-7680-4a98-9612-bbc120b6f638"
      },
      "outputs": [],
      "source": [
        "predictions_df['prediction'] = predictions_df['prediction'].astype('int')"
      ]
    },
    {
      "cell_type": "code",
      "execution_count": null,
      "id": "b3937aa6-b412-4a89-89bd-2b98cf812b45",
      "metadata": {
        "id": "b3937aa6-b412-4a89-89bd-2b98cf812b45",
        "colab": {
          "base_uri": "https://localhost:8080/"
        },
        "outputId": "782027db-774b-4af3-ac05-cfcd618f511a"
      },
      "outputs": [
        {
          "output_type": "stream",
          "name": "stdout",
          "text": [
            "accuracy_score 0.9911727878931583\n",
            "[[1904716   15424]\n",
            " [   1552    1452]]\n",
            "0.4833555259653795\n",
            "0.08603934581654421\n",
            "F1 Score: 0.1460764587525151\n"
          ]
        }
      ],
      "source": [
        "\n",
        "\n",
        "\n",
        "\n",
        "# Evaluate\n",
        "cf = confusion_matrix(observed_df['observation'],predictions_df['prediction'] )\n",
        "rc  = recall_score(observed_df['observation'],predictions_df['prediction'] )\n",
        "pc = precision_score(observed_df['observation'],predictions_df['prediction'] )\n",
        "f1 = f1_score(observed_df['observation'],predictions_df['prediction'] )\n",
        "ac = accuracy_score(observed_df['observation'],predictions_df['prediction'] )\n",
        "\n",
        "print('accuracy_score', ac)\n",
        "print(cf)\n",
        "print(rc)\n",
        "print(pc)\n",
        "print(f\"F1 Score: {f1}\")"
      ]
    },
    {
      "cell_type": "markdown",
      "source": [
        "## 7. Creating a Prediction Data Frame\n",
        "  - Creating a data frame for the predictions of each patient per time step based on the components of the original data.\n",
        "  - Sorting the data to match the orignal sequence.\n",
        "  - Predictiing at the 50% threshold"
      ],
      "metadata": {
        "id": "rhdYEEDLq2Rm"
      },
      "id": "rhdYEEDLq2Rm"
    },
    {
      "cell_type": "code",
      "execution_count": 12,
      "id": "711e25db-528f-4c42-a0c2-0265d8d62149",
      "metadata": {
        "id": "711e25db-528f-4c42-a0c2-0265d8d62149"
      },
      "outputs": [],
      "source": [
        "def predictions(y_pred_prob, sequence, patient_ids, threshold = .5):\n",
        "\n",
        "\n",
        "\n",
        "  # Binarize predictions\n",
        "  y_pred = (y_pred_prob > threshold).astype(\"int32\")\n",
        "\n",
        "\n",
        "  #  predictions per patient\n",
        "  prob_predictions_with_patient_ids = []\n",
        "  binary_predictions_with_patient_ids = []\n",
        "\n",
        "\n",
        "  # Iterate over patients\n",
        "  for index in range(len(patient_ids)):\n",
        "      patient_id = patient_ids[index]\n",
        "      if index < len(y_pred):\n",
        "          #Sequences\n",
        "          actual_observations = sequence[index]\n",
        "          # getting predictions\n",
        "          binary_patient_predictions = y_pred[index][:len(actual_observations)]\n",
        "          prob_patient_predictions = y_pred_prob[index][:len(actual_observations)]\n",
        "          # Append predictions with patient ID and time step\n",
        "          for time_step, (binary_pred, prob_pred) in enumerate(zip(binary_patient_predictions, prob_patient_predictions)):\n",
        "            binary_predictions_with_patient_ids.append({\n",
        "                'ID': f\"{patient_id}_{time_step + 1}\",\n",
        "                'patient': patient_id,\n",
        "                'time_step': time_step,\n",
        "                'SepsisLabel': binary_pred,\n",
        "                'probability': prob_pred\n",
        "            })\n",
        "\n",
        "\n",
        "  # Convert to DataFrame\n",
        "  predictions_df = pd.DataFrame(binary_predictions_with_patient_ids)\n",
        "  return predictions_df"
      ]
    },
    {
      "cell_type": "code",
      "source": [],
      "metadata": {
        "id": "AERFp7E9Pxpj"
      },
      "id": "AERFp7E9Pxpj",
      "execution_count": null,
      "outputs": []
    },
    {
      "cell_type": "code",
      "source": [
        "# Prediction for train, valid, and test\n",
        "\n",
        "y_pred_prob_tr = model.predict(train_x_padded)\n",
        "y_pred_prob_val = model.predict(valid_x_padded)\n",
        "y_pred_prob_te = model.predict(test_x_padded)\n",
        "patient_ids_tr = train_grouped['patient'].tolist()\n",
        "patient_ids_val = valid_grouped['patient'].tolist()\n",
        "patient_ids_te = test_grouped['patient'].tolist()\n",
        "\n",
        "predictions_train = predictions(y_pred_prob_tr, train_y_sequences, patient_ids_tr)\n",
        "predictions_valid = predictions(y_pred_prob_val, valid_sequences, patient_ids_val)\n",
        "predictions_test = predictions(y_pred_prob_te, test_sequences, patient_ids_te)\n",
        "\n",
        "print(predictions_valid.head())\n",
        "print(predictions_train.head())\n",
        "print(predictions_test.head())\n"
      ],
      "metadata": {
        "id": "oSYuxgQIYzWG",
        "colab": {
          "base_uri": "https://localhost:8080/"
        },
        "outputId": "9bb60bad-c9a1-468e-884d-f37f4de8a66b"
      },
      "id": "oSYuxgQIYzWG",
      "execution_count": 13,
      "outputs": [
        {
          "output_type": "stream",
          "name": "stdout",
          "text": [
            "750/750 [==============================] - 198s 263ms/step\n",
            "133/133 [==============================] - 35s 264ms/step\n",
            "379/379 [==============================] - 102s 269ms/step\n",
            "    ID  patient  time_step SepsisLabel     probability\n",
            "0  1_1        1          0         [0]  [0.0076791253]\n",
            "1  1_2        1          1         [0]   [0.005851608]\n",
            "2  1_3        1          2         [0]   [0.005288132]\n",
            "3  1_4        1          3         [0]   [0.004422836]\n",
            "4  1_5        1          4         [0]   [0.004011583]\n",
            "    ID  patient  time_step SepsisLabel     probability\n",
            "0  2_1        2          0         [0]   [0.008090733]\n",
            "1  2_2        2          1         [0]   [0.006042113]\n",
            "2  2_3        2          2         [0]   [0.005205062]\n",
            "3  2_4        2          3         [0]   [0.004450891]\n",
            "4  2_5        2          4         [0]  [0.0041816817]\n",
            "    ID  patient  time_step SepsisLabel     probability\n",
            "0  1_1        1          0         [0]  [0.0077939625]\n",
            "1  1_2        1          1         [0]   [0.005637603]\n",
            "2  1_3        1          2         [0]  [0.0048002396]\n",
            "3  1_4        1          3         [0]  [0.0039416305]\n",
            "4  1_5        1          4         [0]  [0.0034754302]\n"
          ]
        }
      ]
    },
    {
      "cell_type": "code",
      "source": [
        "predictions_train.shape"
      ],
      "metadata": {
        "colab": {
          "base_uri": "https://localhost:8080/"
        },
        "id": "56JD8bI6NIho",
        "outputId": "1655f926-c5ed-41f6-8dba-83b0544d7b31"
      },
      "id": "56JD8bI6NIho",
      "execution_count": 20,
      "outputs": [
        {
          "output_type": "execute_result",
          "data": {
            "text/plain": [
              "(1199157, 5)"
            ]
          },
          "metadata": {},
          "execution_count": 20
        }
      ]
    },
    {
      "cell_type": "code",
      "source": [
        "def sort(predictions_df, scaled_df):\n",
        "  unique_patients = scaled_df['patient'].drop_duplicates()\n",
        "\n",
        "  predictions_df['patient'] = pd.Categorical(predictions_df['patient'], categories=unique_patients, ordered=True)\n",
        "\n",
        "  predictions_df = predictions_df.sort_values(['patient', 'time_step']).reset_index(drop=True)\n",
        "\n",
        "\n",
        "  predictions_df['SepsisLabel'] = predictions_df['SepsisLabel'].astype('int')\n",
        "  predictions_df['probability'] = predictions_df['probability'].astype('float')\n",
        "\n",
        "  return predictions_df"
      ],
      "metadata": {
        "id": "LzPPfY9Rb5tO"
      },
      "id": "LzPPfY9Rb5tO",
      "execution_count": 14,
      "outputs": []
    },
    {
      "cell_type": "code",
      "source": [
        "## Sorting to the original sequence\n",
        "\n",
        "sorted_train = sort(predictions_train, train_x_scaled)\n",
        "sorted_valid = sort(predictions_valid, valid_x_scaled)\n",
        "sorted_test = sort(predictions_test, test_x_scaled)\n",
        "\n",
        "print(sorted_train.head())\n",
        "print(sorted_valid.head())\n",
        "print(sorted_test.head())"
      ],
      "metadata": {
        "id": "9LpNSxpfdov5",
        "colab": {
          "base_uri": "https://localhost:8080/"
        },
        "outputId": "c70700ac-79c9-4fa2-9993-ee11c1feb204"
      },
      "id": "9LpNSxpfdov5",
      "execution_count": 15,
      "outputs": [
        {
          "output_type": "stream",
          "name": "stdout",
          "text": [
            "        ID patient  time_step  SepsisLabel  probability\n",
            "0  16426_1   16426          0            0     0.007252\n",
            "1  16426_2   16426          1            0     0.005230\n",
            "2  16426_3   16426          2            0     0.004542\n",
            "3  16426_4   16426          3            0     0.003987\n",
            "4  16426_5   16426          4            0     0.003585\n",
            "        ID patient  time_step  SepsisLabel  probability\n",
            "0  11627_1   11627          0            0     0.008221\n",
            "1  11627_2   11627          1            0     0.006083\n",
            "2  11627_3   11627          2            0     0.004752\n",
            "3  11627_4   11627          3            0     0.004057\n",
            "4  11627_5   11627          4            0     0.003638\n",
            "       ID patient  time_step  SepsisLabel  probability\n",
            "0  6560_1    6560          0            0     0.010399\n",
            "1  6560_2    6560          1            0     0.007577\n",
            "2  6560_3    6560          2            0     0.007114\n",
            "3  6560_4    6560          3            0     0.006361\n",
            "4  6560_5    6560          4            0     0.006094\n"
          ]
        }
      ]
    },
    {
      "cell_type": "code",
      "source": [
        "min_samples = min(len(sorted_train), len(train_y))\n",
        "sorted_train_df = sorted_train[:min_samples]\n",
        "y_train_df = train_y[:min_samples]"
      ],
      "metadata": {
        "id": "tozDpJBplKeW"
      },
      "id": "tozDpJBplKeW",
      "execution_count": 16,
      "outputs": []
    },
    {
      "cell_type": "code",
      "source": [
        "\n"
      ],
      "metadata": {
        "id": "fsSQhh-8lNID"
      },
      "id": "fsSQhh-8lNID",
      "execution_count": null,
      "outputs": []
    },
    {
      "cell_type": "code",
      "source": [
        "#Train Metrics\n",
        "\n",
        "cf_tr = confusion_matrix(y_train_df['SepsisLabel'], sorted_train_df['SepsisLabel'] )\n",
        "rc_tr  = recall_score(y_train_df['SepsisLabel'], sorted_train_df['SepsisLabel'] )\n",
        "pc_tr = precision_score(y_train_df['SepsisLabel'],sorted_train_df['SepsisLabel'] )\n",
        "f1_tr = f1_score(y_train_df['SepsisLabel'],sorted_train_df['SepsisLabel'])\n",
        "ac_tr = accuracy_score(y_train_df['SepsisLabel'], sorted_train_df['SepsisLabel'])\n",
        "print('accuracy_score:', ac_tr)\n",
        "print('confusion matrix:', cf_tr)\n",
        "print('recall:', rc_tr)\n",
        "print('precision:' ,pc_tr)\n",
        "print('f1:' ,f1_tr)"
      ],
      "metadata": {
        "colab": {
          "base_uri": "https://localhost:8080/"
        },
        "id": "qooPMnvHeaES",
        "outputId": "4622355f-27b7-4aab-910d-966d0406ec53"
      },
      "id": "qooPMnvHeaES",
      "execution_count": 17,
      "outputs": [
        {
          "output_type": "stream",
          "name": "stdout",
          "text": [
            "accuracy_score: 0.6599619566078504\n",
            "confusion matrix: [[737832 164002]\n",
            " [243757  53566]]\n",
            "recall: 0.18016096971979967\n",
            "precision: 0.2462034858067363\n",
            "f1: 0.20806733852407597\n"
          ]
        }
      ]
    },
    {
      "cell_type": "code",
      "source": [
        "# Valid Metrics\n",
        "\n",
        "\n",
        "cf_val = confusion_matrix(valid_y['SepsisLabel'], sorted_valid['SepsisLabel'] )\n",
        "rc_val  = recall_score(valid_y['SepsisLabel'], sorted_valid['SepsisLabel'] )\n",
        "pc_val = precision_score(valid_y['SepsisLabel'],sorted_valid['SepsisLabel'] )\n",
        "f1_val = f1_score(valid_y['SepsisLabel'],sorted_valid['SepsisLabel'])\n",
        "ac_val = accuracy_score(valid_y['SepsisLabel'],sorted_valid['SepsisLabel'])\n",
        "\n",
        "print('accuracy_score:', ac_val)\n",
        "print('confusion matrix:', cf_val)\n",
        "print('recall:', rc_val)\n",
        "print('precision:', pc_val)\n",
        "print('f1:', f1_val)"
      ],
      "metadata": {
        "colab": {
          "base_uri": "https://localhost:8080/"
        },
        "id": "u5EOkaI9fifR",
        "outputId": "6a890555-346e-42d2-bbb7-e7953874beb2"
      },
      "id": "u5EOkaI9fifR",
      "execution_count": 18,
      "outputs": [
        {
          "output_type": "stream",
          "name": "stdout",
          "text": [
            "accuracy_score: 0.8963047609735827\n",
            "confusion matrix: [[145222  15417]\n",
            " [  1552   1452]]\n",
            "recall: 0.4833555259653795\n",
            "precision: 0.08607504890627779\n",
            "f1: 0.1461279122427414\n"
          ]
        }
      ]
    },
    {
      "cell_type": "markdown",
      "source": [
        "## 8. Threshold Optimization\n",
        "\n",
        "  - Creating a function to find prediction metrics at thresholds 0-1 increasing by .01\n",
        "  - Creating a function to return all threshold predictions."
      ],
      "metadata": {
        "id": "YwirBvbNrmv0"
      },
      "id": "YwirBvbNrmv0"
    },
    {
      "cell_type": "code",
      "source": [
        "def performance_metrics(Y, Y_hat, threshold = .5):\n",
        "\n",
        "    ## Classifying for different thresholds\n",
        "\n",
        "    Y_hat = (Y_hat >= threshold).astype(int)\n",
        "\n",
        "    # Making sure that each value is 0 or 1\n",
        "    Y = np.squeeze(Y)\n",
        "    Y_pred = np.squeeze(Y_hat)\n",
        "\n",
        "    # Counting for each part of the matrix\n",
        "    t_pos = np.sum((Y == 1) & (Y_hat == 1))  # True Positives\n",
        "    t_neg = np.sum((Y == 0) & (Y_hat == 0))  # True Negatives\n",
        "    f_pos = np.sum((Y == 0) & (Y_hat == 1))  # False Positives\n",
        "    f_neg = np.sum((Y == 1) & (Y_hat == 0))  # False Negatives\n",
        "\n",
        "\n",
        "    # Precsion, Recall, and False Positive Rate\n",
        "    precision = t_pos/(t_pos + f_pos) if (t_pos + f_pos) > 0 else 1\n",
        "    recall = t_pos/(t_pos+f_neg) if (t_pos + f_pos) > 0 else 0\n",
        "    f_pos_rate = f_pos/(f_pos+t_neg)\n",
        "    t_pos_rate = t_pos/(t_pos+f_neg)\n",
        "\n",
        "    return  precision, recall, f_pos_rate, t_pos_rate"
      ],
      "metadata": {
        "id": "KLWWzo9-gYd3"
      },
      "id": "KLWWzo9-gYd3",
      "execution_count": 72,
      "outputs": []
    },
    {
      "cell_type": "code",
      "source": [
        "def threshold_predictions(valid_y, pred_val_y):\n",
        "\n",
        "  thresholds = np.arange(0.0, 1.01, 0.01)\n",
        "\n",
        "\n",
        "  precisions_valid = []\n",
        "  recalls_valid= []\n",
        "  false_positives_rates_valid =[]\n",
        "  true_positives_rates_valid = []\n",
        "\n",
        "\n",
        "  ## Computing the metrics for each threshold\n",
        "  for threshold in thresholds:\n",
        "          precision_val, recall_val, f_p_val,t_p_val = performance_metrics(valid_y['SepsisLabel'],pred_val_y['probability'], threshold)\n",
        "          precisions_valid.append(precision_val)\n",
        "          recalls_valid.append(recall_val)\n",
        "          false_positives_rates_valid.append(f_p_val)\n",
        "          true_positives_rates_valid.append(t_p_val)\n",
        "\n",
        "  return thresholds, precisions_valid, recalls_valid, false_positives_rates_valid, true_positives_rates_valid"
      ],
      "metadata": {
        "id": "tjHRuZ-fgZdG"
      },
      "id": "tjHRuZ-fgZdG",
      "execution_count": 73,
      "outputs": []
    },
    {
      "cell_type": "code",
      "source": [
        "thresholds, precisions_valid, recalls_valid, false_positives_rates_valid, true_positives_rates_valid = threshold_predictions(valid_y, sorted_valid)"
      ],
      "metadata": {
        "id": "p2XYi8yhXatN"
      },
      "id": "p2XYi8yhXatN",
      "execution_count": 103,
      "outputs": []
    },
    {
      "cell_type": "markdown",
      "source": [],
      "metadata": {
        "id": "nEw5PW-srMJI"
      },
      "id": "nEw5PW-srMJI"
    },
    {
      "cell_type": "code",
      "source": [
        "\n",
        "\n",
        "# Plot test Precision, Recall, and false positives\n",
        "plt.plot(thresholds, precisions_valid, label='Precision Valid', color='blue')\n",
        "plt.plot(thresholds, recalls_valid, label='Recall Valid', color='orange')\n",
        "\n",
        "\n",
        "plt.xlabel('Probability Threshold')\n",
        "plt.ylabel('rate')\n",
        "plt.title('Precision and Recall CNN-LSTM Hybrid vs. Probability Threshold')\n",
        "plt.legend()\n",
        "plt.grid()\n",
        "plt.show()"
      ],
      "metadata": {
        "id": "xr2N1ThthI9q",
        "colab": {
          "base_uri": "https://localhost:8080/",
          "height": 492
        },
        "outputId": "923c9ace-c6ba-497a-d481-54848e3af730"
      },
      "id": "xr2N1ThthI9q",
      "execution_count": 104,
      "outputs": [
        {
          "output_type": "display_data",
          "data": {
            "text/plain": [
              "<Figure size 640x480 with 1 Axes>"
            ],
            "image/png": "[encoded data removed]"
          },
          "metadata": {}
        }
      ]
    },
    {
      "cell_type": "code",
      "source": [
        "precision_recall_diffs_valid = np.abs(np.array(precisions_valid) - np.array(recalls_valid))\n",
        "sorted_indices_valid = np.argsort(precision_recall_diffs_valid)\n",
        "\n",
        "\n",
        "print(\"Thresholds and corresponding precision-recall differences:\")\n",
        "for i, idx in enumerate(sorted_indices_valid[:5]):\n",
        "    print(f\"Threshold: {thresholds[idx]}, Precision: {precisions_valid[idx]}, Recall: {recalls_valid[idx]}, Diff: {precision_recall_diffs_valid[idx]}\")\n",
        "\n",
        "min_diff_index_valid = sorted_indices_valid[0]\n",
        "closest_threshold_valid = thresholds[min_diff_index_valid]\n",
        "\n",
        "print('best threshold (valid):', closest_threshold_valid)"
      ],
      "metadata": {
        "colab": {
          "base_uri": "https://localhost:8080/"
        },
        "id": "zdNofCCHK38-",
        "outputId": "50e0fad7-1f58-444b-e0e9-55942afa0ed2"
      },
      "id": "zdNofCCHK38-",
      "execution_count": 105,
      "outputs": [
        {
          "output_type": "stream",
          "name": "stdout",
          "text": [
            "Thresholds and corresponding precision-recall differences:\n",
            "Threshold: 0.87, Precision: 0.18231108098949508, Recall: 0.17909454061251665, Diff: 0.0032165403769784384\n",
            "Threshold: 0.86, Precision: 0.15763546798029557, Recall: 0.19174434087882822, Diff: 0.03410887289853265\n",
            "Threshold: 0.88, Precision: 0.20920502092050208, Recall: 0.16644474034620507, Diff: 0.04276028057429701\n",
            "Threshold: 0.85, Precision: 0.13752808988764045, Recall: 0.20372836218375498, Diff: 0.06620027229611453\n",
            "Threshold: 0.89, Precision: 0.23858388917393536, Recall: 0.15479360852197072, Diff: 0.08379028065196464\n",
            "best threshold (valid): 0.87\n"
          ]
        }
      ]
    },
    {
      "cell_type": "code",
      "source": [
        "# Prediction for valid at the optimal threshold\n",
        "\n",
        "patient_ids_val2 = valid_grouped['patient'].tolist()\n",
        "\n",
        "predictions_valid2 = predictions(y_pred_prob_val, valid_sequences, patient_ids_val, threshold = .87)\n",
        "\n",
        "sorted_valid2 = sort(predictions_valid2, valid_x_scaled)\n"
      ],
      "metadata": {
        "id": "ngMMsogmM1VX"
      },
      "id": "ngMMsogmM1VX",
      "execution_count": 22,
      "outputs": []
    },
    {
      "cell_type": "code",
      "source": [
        "\n",
        "\n",
        "cf_val2 = confusion_matrix(valid_y['SepsisLabel'], sorted_valid2['SepsisLabel'] )\n",
        "rc_val2  = recall_score(valid_y['SepsisLabel'], sorted_valid2['SepsisLabel'] )\n",
        "pc_val2 = precision_score(valid_y['SepsisLabel'],sorted_valid2['SepsisLabel'] )\n",
        "f1_val2 = f1_score(valid_y['SepsisLabel'],sorted_valid2['SepsisLabel'])\n",
        "ac_val2 = accuracy_score(valid_y['SepsisLabel'],sorted_valid2['SepsisLabel'])\n",
        "\n",
        "print('accuracy_score:', ac_val2)\n",
        "print('confusion matrix:', cf_val2)\n",
        "print('recall:', rc_val2)\n",
        "print('precision:', pc_val2)\n",
        "print('f1:', f1_val2)"
      ],
      "metadata": {
        "colab": {
          "base_uri": "https://localhost:8080/"
        },
        "id": "OmzN3cCMLNlt",
        "outputId": "c6079650-89ed-4d74-de2c-9929f5e1444a"
      },
      "id": "OmzN3cCMLNlt",
      "execution_count": 152,
      "outputs": [
        {
          "output_type": "stream",
          "name": "stdout",
          "text": [
            "accuracy_score: 0.9701850980488014\n",
            "confusion matrix: [[158226   2413]\n",
            " [  2466    538]]\n",
            "recall: 0.17909454061251665\n",
            "precision: 0.18231108098949508\n",
            "f1: 0.18068849706129303\n"
          ]
        }
      ]
    },
    {
      "cell_type": "markdown",
      "source": [
        "## 9. Submission File for Test Data\n",
        "  - Predict based on the optimal threshold found in the valid data."
      ],
      "metadata": {
        "id": "sJLRJDk4sPkD"
      },
      "id": "sJLRJDk4sPkD"
    },
    {
      "cell_type": "code",
      "source": [
        "patient_ids_te2 = test_grouped['patient'].tolist()\n",
        "\n",
        "predictions_test2 = predictions(y_pred_prob_te, test_sequences, patient_ids_te, threshold = .87)\n",
        "\n",
        "sorted_test2 = sort(predictions_test2, test_x_scaled)"
      ],
      "metadata": {
        "id": "l-FIpKgeLNz-"
      },
      "id": "l-FIpKgeLNz-",
      "execution_count": 61,
      "outputs": []
    },
    {
      "cell_type": "code",
      "source": [
        "from google.colab import drive\n",
        "drive.mount('/content/drive')\n",
        "sorted_test2.to_csv('/content/drive/MyDrive/test_matrix.csv', index=False)"
      ],
      "metadata": {
        "colab": {
          "base_uri": "https://localhost:8080/"
        },
        "id": "u-I1WZTR0n5P",
        "outputId": "ea998ea2-4af7-4e7c-ee2a-5f484ce39793"
      },
      "id": "u-I1WZTR0n5P",
      "execution_count": null,
      "outputs": [
        {
          "output_type": "stream",
          "name": "stdout",
          "text": [
            "Drive already mounted at /content/drive; to attempt to forcibly remount, call drive.mount(\"/content/drive\", force_remount=True).\n"
          ]
        }
      ]
    },
    {
      "cell_type": "code",
      "source": [
        "final_test = sorted_test2.drop(columns = ['patient', 'time_step', 'probability'])\n"
      ],
      "metadata": {
        "id": "-pE5WmTTgaPX"
      },
      "id": "-pE5WmTTgaPX",
      "execution_count": 62,
      "outputs": []
    },
    {
      "cell_type": "code",
      "source": [
        "final_test.head()"
      ],
      "metadata": {
        "colab": {
          "base_uri": "https://localhost:8080/",
          "height": 226
        },
        "id": "sSzJysLpy3Wi",
        "outputId": "bf548bfb-8fc7-4637-a7f9-9b9440ecf730"
      },
      "id": "sSzJysLpy3Wi",
      "execution_count": 50,
      "outputs": [
        {
          "output_type": "execute_result",
          "data": {
            "text/plain": [
              "       ID  SepsisLabel\n",
              "0  6560_1            0\n",
              "1  6560_2            0\n",
              "2  6560_3            0\n",
              "3  6560_4            0\n",
              "4  6560_5            0"
            ],
            "text/html": [
              "\n",
              "  <div id=\"df-9d5db89f-ebda-45fd-9e9a-62c3c58e7f2c\" class=\"colab-df-container\">\n",
              "    <div>\n",
              "<style scoped>\n",
              "    .dataframe tbody tr th:only-of-type {\n",
              "        vertical-align: middle;\n",
              "    }\n",
              "\n",
              "    .dataframe tbody tr th {\n",
              "        vertical-align: top;\n",
              "    }\n",
              "\n",
              "    .dataframe thead th {\n",
              "        text-align: right;\n",
              "    }\n",
              "</style>\n",
              "<table border=\"1\" class=\"dataframe\">\n",
              "  <thead>\n",
              "    <tr style=\"text-align: right;\">\n",
              "      <th></th>\n",
              "      <th>ID</th>\n",
              "      <th>SepsisLabel</th>\n",
              "    </tr>\n",
              "  </thead>\n",
              "  <tbody>\n",
              "    <tr>\n",
              "      <th>0</th>\n",
              "      <td>6560_1</td>\n",
              "      <td>0</td>\n",
              "    </tr>\n",
              "    <tr>\n",
              "      <th>1</th>\n",
              "      <td>6560_2</td>\n",
              "      <td>0</td>\n",
              "    </tr>\n",
              "    <tr>\n",
              "      <th>2</th>\n",
              "      <td>6560_3</td>\n",
              "      <td>0</td>\n",
              "    </tr>\n",
              "    <tr>\n",
              "      <th>3</th>\n",
              "      <td>6560_4</td>\n",
              "      <td>0</td>\n",
              "    </tr>\n",
              "    <tr>\n",
              "      <th>4</th>\n",
              "      <td>6560_5</td>\n",
              "      <td>0</td>\n",
              "    </tr>\n",
              "  </tbody>\n",
              "</table>\n",
              "</div>\n",
              "    <div class=\"colab-df-buttons\">\n",
              "\n",
              "  <div class=\"colab-df-container\">\n",
              "    <button class=\"colab-df-convert\" onclick=\"convertToInteractive('df-9d5db89f-ebda-45fd-9e9a-62c3c58e7f2c')\"\n",
              "            title=\"Convert this dataframe to an interactive table.\"\n",
              "            style=\"display:none;\">\n",
              "\n",
              "  <svg xmlns=\"http://www.w3.org/2000/svg\" height=\"24px\" viewBox=\"0 -960 960 960\">\n",
              "    <path d=\"M120-120v-720h720v720H120Zm60-500h600v-160H180v160Zm220 220h160v-160H400v160Zm0 220h160v-160H400v160ZM180-400h160v-160H180v160Zm440 0h160v-160H620v160ZM180-180h160v-160H180v160Zm440 0h160v-160H620v160Z\"/>\n",
              "  </svg>\n",
              "    </button>\n",
              "\n",
              "  <style>\n",
              "    .colab-df-container {\n",
              "      display:flex;\n",
              "      gap: 12px;\n",
              "    }\n",
              "\n",
              "    .colab-df-convert {\n",
              "      background-color: #E8F0FE;\n",
              "      border: none;\n",
              "      border-radius: 50%;\n",
              "      cursor: pointer;\n",
              "      display: none;\n",
              "      fill: #1967D2;\n",
              "      height: 32px;\n",
              "      padding: 0 0 0 0;\n",
              "      width: 32px;\n",
              "    }\n",
              "\n",
              "    .colab-df-convert:hover {\n",
              "      background-color: #E2EBFA;\n",
              "      box-shadow: 0px 1px 2px rgba(60, 64, 67, 0.3), 0px 1px 3px 1px rgba(60, 64, 67, 0.15);\n",
              "      fill: #174EA6;\n",
              "    }\n",
              "\n",
              "    .colab-df-buttons div {\n",
              "      margin-bottom: 4px;\n",
              "    }\n",
              "\n",
              "    [theme=dark] .colab-df-convert {\n",
              "      background-color: #3B4455;\n",
              "      fill: #D2E3FC;\n",
              "    }\n",
              "\n",
              "    [theme=dark] .colab-df-convert:hover {\n",
              "      background-color: #434B5C;\n",
              "      box-shadow: 0px 1px 3px 1px rgba(0, 0, 0, 0.15);\n",
              "      filter: drop-shadow(0px 1px 2px rgba(0, 0, 0, 0.3));\n",
              "      fill: #FFFFFF;\n",
              "    }\n",
              "  </style>\n",
              "\n",
              "    <script>\n",
              "      const buttonEl =\n",
              "        document.querySelector('#df-9d5db89f-ebda-45fd-9e9a-62c3c58e7f2c button.colab-df-convert');\n",
              "      buttonEl.style.display =\n",
              "        google.colab.kernel.accessAllowed ? 'block' : 'none';\n",
              "\n",
              "      async function convertToInteractive(key) {\n",
              "        const element = document.querySelector('#df-9d5db89f-ebda-45fd-9e9a-62c3c58e7f2c');\n",
              "        const dataTable =\n",
              "          await google.colab.kernel.invokeFunction('convertToInteractive',\n",
              "                                                    [key], {});\n",
              "        if (!dataTable) return;\n",
              "\n",
              "        const docLinkHtml = 'Like what you see? Visit the ' +\n",
              "          '<a target=\"_blank\" href=https://colab.research.google.com/notebooks/data_table.ipynb>data table notebook</a>'\n",
              "          + ' to learn more about interactive tables.';\n",
              "        element.innerHTML = '';\n",
              "        dataTable['output_type'] = 'display_data';\n",
              "        await google.colab.output.renderOutput(dataTable, element);\n",
              "        const docLink = document.createElement('div');\n",
              "        docLink.innerHTML = docLinkHtml;\n",
              "        element.appendChild(docLink);\n",
              "      }\n",
              "    </script>\n",
              "  </div>\n",
              "\n",
              "\n",
              "<div id=\"df-a857ad67-4364-4c36-91e4-d5cf2d51676b\">\n",
              "  <button class=\"colab-df-quickchart\" onclick=\"quickchart('df-a857ad67-4364-4c36-91e4-d5cf2d51676b')\"\n",
              "            title=\"Suggest charts\"\n",
              "            style=\"display:none;\">\n",
              "\n",
              "<svg xmlns=\"http://www.w3.org/2000/svg\" height=\"24px\"viewBox=\"0 0 24 24\"\n",
              "     width=\"24px\">\n",
              "    <g>\n",
              "        <path d=\"M19 3H5c-1.1 0-2 .9-2 2v14c0 1.1.9 2 2 2h14c1.1 0 2-.9 2-2V5c0-1.1-.9-2-2-2zM9 17H7v-7h2v7zm4 0h-2V7h2v10zm4 0h-2v-4h2v4z\"/>\n",
              "    </g>\n",
              "</svg>\n",
              "  </button>\n",
              "\n",
              "<style>\n",
              "  .colab-df-quickchart {\n",
              "      --bg-color: #E8F0FE;\n",
              "      --fill-color: #1967D2;\n",
              "      --hover-bg-color: #E2EBFA;\n",
              "      --hover-fill-color: #174EA6;\n",
              "      --disabled-fill-color: #AAA;\n",
              "      --disabled-bg-color: #DDD;\n",
              "  }\n",
              "\n",
              "  [theme=dark] .colab-df-quickchart {\n",
              "      --bg-color: #3B4455;\n",
              "      --fill-color: #D2E3FC;\n",
              "      --hover-bg-color: #434B5C;\n",
              "      --hover-fill-color: #FFFFFF;\n",
              "      --disabled-bg-color: #3B4455;\n",
              "      --disabled-fill-color: #666;\n",
              "  }\n",
              "\n",
              "  .colab-df-quickchart {\n",
              "    background-color: var(--bg-color);\n",
              "    border: none;\n",
              "    border-radius: 50%;\n",
              "    cursor: pointer;\n",
              "    display: none;\n",
              "    fill: var(--fill-color);\n",
              "    height: 32px;\n",
              "    padding: 0;\n",
              "    width: 32px;\n",
              "  }\n",
              "\n",
              "  .colab-df-quickchart:hover {\n",
              "    background-color: var(--hover-bg-color);\n",
              "    box-shadow: 0 1px 2px rgba(60, 64, 67, 0.3), 0 1px 3px 1px rgba(60, 64, 67, 0.15);\n",
              "    fill: var(--button-hover-fill-color);\n",
              "  }\n",
              "\n",
              "  .colab-df-quickchart-complete:disabled,\n",
              "  .colab-df-quickchart-complete:disabled:hover {\n",
              "    background-color: var(--disabled-bg-color);\n",
              "    fill: var(--disabled-fill-color);\n",
              "    box-shadow: none;\n",
              "  }\n",
              "\n",
              "  .colab-df-spinner {\n",
              "    border: 2px solid var(--fill-color);\n",
              "    border-color: transparent;\n",
              "    border-bottom-color: var(--fill-color);\n",
              "    animation:\n",
              "      spin 1s steps(1) infinite;\n",
              "  }\n",
              "\n",
              "  @keyframes spin {\n",
              "    0% {\n",
              "      border-color: transparent;\n",
              "      border-bottom-color: var(--fill-color);\n",
              "      border-left-color: var(--fill-color);\n",
              "    }\n",
              "    20% {\n",
              "      border-color: transparent;\n",
              "      border-left-color: var(--fill-color);\n",
              "      border-top-color: var(--fill-color);\n",
              "    }\n",
              "    30% {\n",
              "      border-color: transparent;\n",
              "      border-left-color: var(--fill-color);\n",
              "      border-top-color: var(--fill-color);\n",
              "      border-right-color: var(--fill-color);\n",
              "    }\n",
              "    40% {\n",
              "      border-color: transparent;\n",
              "      border-right-color: var(--fill-color);\n",
              "      border-top-color: var(--fill-color);\n",
              "    }\n",
              "    60% {\n",
              "      border-color: transparent;\n",
              "      border-right-color: var(--fill-color);\n",
              "    }\n",
              "    80% {\n",
              "      border-color: transparent;\n",
              "      border-right-color: var(--fill-color);\n",
              "      border-bottom-color: var(--fill-color);\n",
              "    }\n",
              "    90% {\n",
              "      border-color: transparent;\n",
              "      border-bottom-color: var(--fill-color);\n",
              "    }\n",
              "  }\n",
              "</style>\n",
              "\n",
              "  <script>\n",
              "    async function quickchart(key) {\n",
              "      const quickchartButtonEl =\n",
              "        document.querySelector('#' + key + ' button');\n",
              "      quickchartButtonEl.disabled = true;  // To prevent multiple clicks.\n",
              "      quickchartButtonEl.classList.add('colab-df-spinner');\n",
              "      try {\n",
              "        const charts = await google.colab.kernel.invokeFunction(\n",
              "            'suggestCharts', [key], {});\n",
              "      } catch (error) {\n",
              "        console.error('Error during call to suggestCharts:', error);\n",
              "      }\n",
              "      quickchartButtonEl.classList.remove('colab-df-spinner');\n",
              "      quickchartButtonEl.classList.add('colab-df-quickchart-complete');\n",
              "    }\n",
              "    (() => {\n",
              "      let quickchartButtonEl =\n",
              "        document.querySelector('#df-a857ad67-4364-4c36-91e4-d5cf2d51676b button');\n",
              "      quickchartButtonEl.style.display =\n",
              "        google.colab.kernel.accessAllowed ? 'block' : 'none';\n",
              "    })();\n",
              "  </script>\n",
              "</div>\n",
              "\n",
              "    </div>\n",
              "  </div>\n"
            ],
            "application/vnd.google.colaboratory.intrinsic+json": {
              "type": "dataframe",
              "variable_name": "final_test"
            }
          },
          "metadata": {},
          "execution_count": 50
        }
      ]
    },
    {
      "cell_type": "code",
      "source": [
        "print(final_test['SepsisLabel'].value_counts())\n",
        "final_test.shape"
      ],
      "metadata": {
        "id": "3zpk52bkhjOF",
        "colab": {
          "base_uri": "https://localhost:8080/"
        },
        "outputId": "38ff38e3-af7d-4a8e-aa63-67559ffda8ad"
      },
      "id": "3zpk52bkhjOF",
      "execution_count": 63,
      "outputs": [
        {
          "output_type": "stream",
          "name": "stdout",
          "text": [
            "SepsisLabel\n",
            "0    456454\n",
            "1      7900\n",
            "Name: count, dtype: int64\n"
          ]
        },
        {
          "output_type": "execute_result",
          "data": {
            "text/plain": [
              "(464354, 2)"
            ]
          },
          "metadata": {},
          "execution_count": 63
        }
      ]
    },
    {
      "cell_type": "code",
      "source": [
        "\n",
        "drive.mount('/content/drive')\n",
        "final_test.to_csv('/content/drive/MyDrive/submission.csv', index=False)"
      ],
      "metadata": {
        "id": "Tj4lcUxjhtI3",
        "colab": {
          "base_uri": "https://localhost:8080/"
        },
        "outputId": "8e8a8975-f766-458c-8247-dda3b40b41a7"
      },
      "id": "Tj4lcUxjhtI3",
      "execution_count": null,
      "outputs": [
        {
          "output_type": "stream",
          "name": "stdout",
          "text": [
            "Drive already mounted at /content/drive; to attempt to forcibly remount, call drive.mount(\"/content/drive\", force_remount=True).\n"
          ]
        }
      ]
    },
    {
      "cell_type": "code",
      "source": [],
      "metadata": {
        "id": "fOIHCoocsgB3"
      },
      "id": "fOIHCoocsgB3",
      "execution_count": null,
      "outputs": []
    },
    {
      "cell_type": "markdown",
      "source": [
        "## 10 Ensemble Model Optimization\n",
        "\n",
        "  - Importing LightGBM output probabilities on the valid data to create and optimize Ensemble model based on the valid data.\n"
      ],
      "metadata": {
        "id": "TIs1g4WusjdM"
      },
      "id": "TIs1g4WusjdM"
    },
    {
      "cell_type": "code",
      "execution_count": 84,
      "id": "10a3256a-1372-48fa-942d-1e15258a3f39",
      "metadata": {
        "id": "10a3256a-1372-48fa-942d-1e15258a3f39",
        "outputId": "c22250ca-08fd-40f3-bb77-c48a945fa9a7",
        "colab": {
          "base_uri": "https://localhost:8080/",
          "height": 94
        }
      },
      "outputs": [
        {
          "output_type": "display_data",
          "data": {
            "text/plain": [
              "<IPython.core.display.HTML object>"
            ],
            "text/html": [
              "\n",
              "     <input type=\"file\" id=\"files-8783fd24-1ec8-4b4a-947c-70a71d082fe4\" name=\"files[]\" multiple disabled\n",
              "        style=\"border:none\" />\n",
              "     <output id=\"result-8783fd24-1ec8-4b4a-947c-70a71d082fe4\">\n",
              "      Upload widget is only available when the cell has been executed in the\n",
              "      current browser session. Please rerun this cell to enable.\n",
              "      </output>\n",
              "      <script>// Copyright 2017 Google LLC\n",
              "//\n",
              "// Licensed under the Apache License, Version 2.0 (the \"License\");\n",
              "// you may not use this file except in compliance with the License.\n",
              "// You may obtain a copy of the License at\n",
              "//\n",
              "//      http://www.apache.org/licenses/LICENSE-2.0\n",
              "//\n",
              "// Unless required by applicable law or agreed to in writing, software\n",
              "// distributed under the License is distributed on an \"AS IS\" BASIS,\n",
              "// WITHOUT WARRANTIES OR CONDITIONS OF ANY KIND, either express or implied.\n",
              "// See the License for the specific language governing permissions and\n",
              "// limitations under the License.\n",
              "\n",
              "/**\n",
              " * @fileoverview Helpers for google.colab Python module.\n",
              " */\n",
              "(function(scope) {\n",
              "function span(text, styleAttributes = {}) {\n",
              "  const element = document.createElement('span');\n",
              "  element.textContent = text;\n",
              "  for (const key of Object.keys(styleAttributes)) {\n",
              "    element.style[key] = styleAttributes[key];\n",
              "  }\n",
              "  return element;\n",
              "}\n",
              "\n",
              "// Max number of bytes which will be uploaded at a time.\n",
              "const MAX_PAYLOAD_SIZE = 100 * 1024;\n",
              "\n",
              "function _uploadFiles(inputId, outputId) {\n",
              "  const steps = uploadFilesStep(inputId, outputId);\n",
              "  const outputElement = document.getElementById(outputId);\n",
              "  // Cache steps on the outputElement to make it available for the next call\n",
              "  // to uploadFilesContinue from Python.\n",
              "  outputElement.steps = steps;\n",
              "\n",
              "  return _uploadFilesContinue(outputId);\n",
              "}\n",
              "\n",
              "// This is roughly an async generator (not supported in the browser yet),\n",
              "// where there are multiple asynchronous steps and the Python side is going\n",
              "// to poll for completion of each step.\n",
              "// This uses a Promise to block the python side on completion of each step,\n",
              "// then passes the result of the previous step as the input to the next step.\n",
              "function _uploadFilesContinue(outputId) {\n",
              "  const outputElement = document.getElementById(outputId);\n",
              "  const steps = outputElement.steps;\n",
              "\n",
              "  const next = steps.next(outputElement.lastPromiseValue);\n",
              "  return Promise.resolve(next.value.promise).then((value) => {\n",
              "    // Cache the last promise value to make it available to the next\n",
              "    // step of the generator.\n",
              "    outputElement.lastPromiseValue = value;\n",
              "    return next.value.response;\n",
              "  });\n",
              "}\n",
              "\n",
              "/**\n",
              " * Generator function which is called between each async step of the upload\n",
              " * process.\n",
              " * @param {string} inputId Element ID of the input file picker element.\n",
              " * @param {string} outputId Element ID of the output display.\n",
              " * @return {!Iterable<!Object>} Iterable of next steps.\n",
              " */\n",
              "function* uploadFilesStep(inputId, outputId) {\n",
              "  const inputElement = document.getElementById(inputId);\n",
              "  inputElement.disabled = false;\n",
              "\n",
              "  const outputElement = document.getElementById(outputId);\n",
              "  outputElement.innerHTML = '';\n",
              "\n",
              "  const pickedPromise = new Promise((resolve) => {\n",
              "    inputElement.addEventListener('change', (e) => {\n",
              "      resolve(e.target.files);\n",
              "    });\n",
              "  });\n",
              "\n",
              "  const cancel = document.createElement('button');\n",
              "  inputElement.parentElement.appendChild(cancel);\n",
              "  cancel.textContent = 'Cancel upload';\n",
              "  const cancelPromise = new Promise((resolve) => {\n",
              "    cancel.onclick = () => {\n",
              "      resolve(null);\n",
              "    };\n",
              "  });\n",
              "\n",
              "  // Wait for the user to pick the files.\n",
              "  const files = yield {\n",
              "    promise: Promise.race([pickedPromise, cancelPromise]),\n",
              "    response: {\n",
              "      action: 'starting',\n",
              "    }\n",
              "  };\n",
              "\n",
              "  cancel.remove();\n",
              "\n",
              "  // Disable the input element since further picks are not allowed.\n",
              "  inputElement.disabled = true;\n",
              "\n",
              "  if (!files) {\n",
              "    return {\n",
              "      response: {\n",
              "        action: 'complete',\n",
              "      }\n",
              "    };\n",
              "  }\n",
              "\n",
              "  for (const file of files) {\n",
              "    const li = document.createElement('li');\n",
              "    li.append(span(file.name, {fontWeight: 'bold'}));\n",
              "    li.append(span(\n",
              "        `(${file.type || 'n/a'}) - ${file.size} bytes, ` +\n",
              "        `last modified: ${\n",
              "            file.lastModifiedDate ? file.lastModifiedDate.toLocaleDateString() :\n",
              "                                    'n/a'} - `));\n",
              "    const percent = span('0% done');\n",
              "    li.appendChild(percent);\n",
              "\n",
              "    outputElement.appendChild(li);\n",
              "\n",
              "    const fileDataPromise = new Promise((resolve) => {\n",
              "      const reader = new FileReader();\n",
              "      reader.onload = (e) => {\n",
              "        resolve(e.target.result);\n",
              "      };\n",
              "      reader.readAsArrayBuffer(file);\n",
              "    });\n",
              "    // Wait for the data to be ready.\n",
              "    let fileData = yield {\n",
              "      promise: fileDataPromise,\n",
              "      response: {\n",
              "        action: 'continue',\n",
              "      }\n",
              "    };\n",
              "\n",
              "    // Use a chunked sending to avoid message size limits. See b/62115660.\n",
              "    let position = 0;\n",
              "    do {\n",
              "      const length = Math.min(fileData.byteLength - position, MAX_PAYLOAD_SIZE);\n",
              "      const chunk = new Uint8Array(fileData, position, length);\n",
              "      position += length;\n",
              "\n",
              "      const base64 = btoa(String.fromCharCode.apply(null, chunk));\n",
              "      yield {\n",
              "        response: {\n",
              "          action: 'append',\n",
              "          file: file.name,\n",
              "          data: base64,\n",
              "        },\n",
              "      };\n",
              "\n",
              "      let percentDone = fileData.byteLength === 0 ?\n",
              "          100 :\n",
              "          Math.round((position / fileData.byteLength) * 100);\n",
              "      percent.textContent = `${percentDone}% done`;\n",
              "\n",
              "    } while (position < fileData.byteLength);\n",
              "  }\n",
              "\n",
              "  // All done.\n",
              "  yield {\n",
              "    response: {\n",
              "      action: 'complete',\n",
              "    }\n",
              "  };\n",
              "}\n",
              "\n",
              "scope.google = scope.google || {};\n",
              "scope.google.colab = scope.google.colab || {};\n",
              "scope.google.colab._files = {\n",
              "  _uploadFiles,\n",
              "  _uploadFilesContinue,\n",
              "};\n",
              "})(self);\n",
              "</script> "
            ]
          },
          "metadata": {}
        },
        {
          "output_type": "stream",
          "name": "stdout",
          "text": [
            "Saving lightGBM_submission5.csv to lightGBM_submission5.csv\n"
          ]
        }
      ],
      "source": [
        "\n",
        "uploaded = files.upload()"
      ]
    },
    {
      "cell_type": "code",
      "source": [
        "boostprobs = pd.read_csv('lightGBM_submission5.csv')"
      ],
      "metadata": {
        "id": "1V3KuxZTfr_y"
      },
      "id": "1V3KuxZTfr_y",
      "execution_count": 85,
      "outputs": []
    },
    {
      "cell_type": "code",
      "source": [
        "boostprobs[['ID', 'SepsisLabel']] = boostprobs['ID,SepsisLabel'].str.split(',', expand=True)\n",
        "\n",
        "boostprobs['probability'] = boostprobs['SepsisLabel'].astype(float)\n"
      ],
      "metadata": {
        "id": "IWbxQAZqpiR8"
      },
      "id": "IWbxQAZqpiR8",
      "execution_count": 91,
      "outputs": []
    },
    {
      "cell_type": "code",
      "source": [
        "weighted_probs = .6*sorted_valid2['probability'] + .4*boostprobs['probability']"
      ],
      "metadata": {
        "id": "zxGx1Rdze7gL"
      },
      "id": "zxGx1Rdze7gL",
      "execution_count": 94,
      "outputs": []
    },
    {
      "cell_type": "code",
      "source": [
        "weighted_probs = pd.DataFrame(weighted_probs, columns = ['probability'])\n",
        "print(weighted_probs.shape)\n",
        "\n"
      ],
      "metadata": {
        "colab": {
          "base_uri": "https://localhost:8080/"
        },
        "id": "eYoJ6K5xgH7Q",
        "outputId": "80a0d18e-73e6-4523-f137-3d775693aec1"
      },
      "id": "eYoJ6K5xgH7Q",
      "execution_count": 95,
      "outputs": [
        {
          "output_type": "stream",
          "name": "stdout",
          "text": [
            "(163643, 1)\n"
          ]
        }
      ]
    },
    {
      "cell_type": "code",
      "source": [
        "thresholds_e, precisions_valid_e, recalls_valid_e, false_positives_rates_valid_e, true_positives_rates_valid_e= threshold_predictions(valid_y, weighted_probs)"
      ],
      "metadata": {
        "id": "ksUjk5r0fc0H"
      },
      "id": "ksUjk5r0fc0H",
      "execution_count": 146,
      "outputs": []
    },
    {
      "cell_type": "code",
      "execution_count": 147,
      "id": "dfd30236-3d10-420d-aaa6-6695a7cc6399",
      "metadata": {
        "id": "dfd30236-3d10-420d-aaa6-6695a7cc6399",
        "outputId": "13d3c202-432d-48ad-d930-e17ab5cd1db8",
        "colab": {
          "base_uri": "https://localhost:8080/",
          "height": 571
        }
      },
      "outputs": [
        {
          "output_type": "display_data",
          "data": {
            "text/plain": [
              "<Figure size 1200x600 with 1 Axes>"
            ],
            "image/png": "[encoded data removed]"
          },
          "metadata": {}
        }
      ],
      "source": [
        "plt.figure(figsize=(12, 6))\n",
        "\n",
        "\n",
        "# Plot test Precision, Recall, and false positives\n",
        "plt.plot(thresholds_e, precisions_valid_e, label='Precision Valid', color='blue')\n",
        "plt.plot(thresholds_e, recalls_valid_e, label='Recall Valid', color='orange')\n",
        "\n",
        "\n",
        "plt.xlabel('Probability Threshold')\n",
        "plt.ylabel('rate')\n",
        "plt.title('Precision and Recall for Ensemble vs. Probability Threshold')\n",
        "plt.legend()\n",
        "plt.grid()\n",
        "plt.show()"
      ]
    },
    {
      "cell_type": "code",
      "execution_count": 154,
      "id": "b9081af0-d351-4d04-b881-3a6f4c3ae5d9",
      "metadata": {
        "id": "b9081af0-d351-4d04-b881-3a6f4c3ae5d9",
        "outputId": "1a4149a8-a6ad-4a42-e3c3-a7dc530da843",
        "colab": {
          "base_uri": "https://localhost:8080/"
        }
      },
      "outputs": [
        {
          "output_type": "stream",
          "name": "stdout",
          "text": [
            "Thresholds and corresponding precision-recall differences:\n",
            "Threshold: 0.59, Precision: 0.22831505483549352, Recall: 0.22869507323568575, Diff: 0.00038001840019222244\n",
            "Threshold: 0.6, Precision: 0.23657838224767358, Recall: 0.2200399467376831, Diff: 0.016538435509990485\n",
            "Threshold: 0.58, Precision: 0.21957998764669548, Recall: 0.2366844207723036, Diff: 0.01710443312560811\n",
            "Threshold: 0.61, Precision: 0.24552721735820326, Recall: 0.21471371504660453, Diff: 0.03081350231159874\n",
            "Threshold: 0.5700000000000001, Precision: 0.20932878270762229, Recall: 0.24500665778961384, Diff: 0.03567787508199155\n",
            "best threshold (valid): 0.59\n"
          ]
        }
      ],
      "source": [
        "precision_recall_diffs_valid = np.abs(np.array(precisions_valid_e) - np.array(recalls_valid_e))\n",
        "sorted_indices_valid = np.argsort(precision_recall_diffs_valid)\n",
        "\n",
        "\n",
        "print(\"Thresholds and corresponding precision-recall differences:\")\n",
        "for i, idx in enumerate(sorted_indices_valid[:5]):\n",
        "    print(f\"Threshold: {thresholds_e[idx]}, Precision: {precisions_valid_e[idx]}, Recall: {recalls_valid_e[idx]}, Diff: {precision_recall_diffs_valid[idx]}\")\n",
        "\n",
        "min_diff_index_valid = sorted_indices_valid[0]\n",
        "closest_threshold_valid = thresholds_e[min_diff_index_valid]\n",
        "\n",
        "print('best threshold (valid):', closest_threshold_valid)"
      ]
    },
    {
      "cell_type": "code",
      "source": [
        "## Ensemble Performance Metrics\n",
        "\n",
        "\n",
        "y_pred_boost = (weighted_probs >= .6).astype(\"int32\")\n",
        "cf_val3 = confusion_matrix(valid_y['SepsisLabel'], y_pred_boost )\n",
        "rc_val3  = recall_score(valid_y['SepsisLabel'], y_pred_boost )\n",
        "pc_val3 = precision_score(valid_y['SepsisLabel'],y_pred_boost )\n",
        "f1_val3 = f1_score(valid_y['SepsisLabel'],y_pred_boost)\n",
        "ac_val3 = accuracy_score(valid_y['SepsisLabel'],y_pred_boost)\n",
        "\n",
        "print('accuracy_score:', ac_val3)\n",
        "print('confusion matrix:', cf_val3)\n",
        "print('recall:', rc_val3)\n",
        "print('precision:', pc_val3)\n",
        "print('f1:', f1_val3)"
      ],
      "metadata": {
        "colab": {
          "base_uri": "https://localhost:8080/"
        },
        "id": "S9-HYaI40358",
        "outputId": "b387cce5-0126-433e-b184-a44828687b7f"
      },
      "id": "S9-HYaI40358",
      "execution_count": 157,
      "outputs": [
        {
          "output_type": "stream",
          "name": "stdout",
          "text": [
            "accuracy_score: 0.9726477759513087\n",
            "confusion matrix: [[158506   2133]\n",
            " [  2343    661]]\n",
            "recall: 0.2200399467376831\n",
            "precision: 0.23657838224767358\n",
            "f1: 0.22800965850293203\n"
          ]
        }
      ]
    },
    {
      "cell_type": "markdown",
      "source": [
        "## 11. ROC Curves and Precision Recall Curves for Each Model"
      ],
      "metadata": {
        "id": "j3RtBK0us_DU"
      },
      "id": "j3RtBK0us_DU"
    },
    {
      "cell_type": "code",
      "source": [
        "thresholds_g, precisions_valid_g, recalls_valid_g, false_positives_rates_valid_g, true_positives_rates_valid_g= threshold_predictions(valid_y, boostprobs)"
      ],
      "metadata": {
        "id": "auA1YsB3sgIX"
      },
      "id": "auA1YsB3sgIX",
      "execution_count": 113,
      "outputs": []
    },
    {
      "cell_type": "code",
      "source": [
        "## CNN-LSTM Valid ROC curve\n",
        "\n",
        "fpr_c, tpr_c, thresholds = roc_curve(valid_y['SepsisLabel'], sorted_valid2['probability'])\n",
        "roc_auc_c = auc(fpr_c, tpr_c)\n",
        "\n",
        "plt.figure()\n",
        "plt.plot(fpr_c, tpr_c, color='red', lw=2, label=f'ROC curve (AUC = {roc_auc_c:.2f})')\n",
        "plt.plot([0, 1], [0, 1], color='gray', linestyle='--', lw=2)\n",
        "plt.xlim([0.0, 1.0])\n",
        "plt.ylim([0.0, 1.05])\n",
        "plt.xlabel('False Positive Rate')\n",
        "plt.ylabel('True Positive Rate')\n",
        "plt.title('Receiver Operating Characteristic (ROC) Curve')\n",
        "plt.suptitle('CNN-LSTM Model')\n",
        "plt.legend(loc=\"lower right\")\n",
        "plt.show()\n",
        "\n",
        "\n",
        "\n",
        "\n",
        "pr_auc_c = auc(recalls_valid, precisions_valid)\n",
        "\n",
        "\n",
        "plt.figure()\n",
        "plt.plot(recalls_valid, precisions_valid, color='red', lw=2, label=f'PR Curve (AUC = {pr_auc_c:.2f})')\n",
        "plt.xlabel('Recall')\n",
        "plt.ylabel('Precision')\n",
        "plt.title('Precision-Recall Curve')\n",
        "plt.suptitle('CNN-LSTM Model')\n",
        "plt.legend(loc=\"lower left\")\n",
        "plt.show()"
      ],
      "metadata": {
        "colab": {
          "base_uri": "https://localhost:8080/",
          "height": 997
        },
        "id": "CPUf8NyYhyd9",
        "outputId": "69e3ef16-e804-4964-d59c-8794539df84c"
      },
      "id": "CPUf8NyYhyd9",
      "execution_count": 134,
      "outputs": [
        {
          "output_type": "display_data",
          "data": {
            "text/plain": [
              "<Figure size 640x480 with 1 Axes>"
            ],
            "image/png": "[encoded data removed]"
          },
          "metadata": {}
        },
        {
          "output_type": "display_data",
          "data": {
            "text/plain": [
              "<Figure size 640x480 with 1 Axes>"
            ],
            "image/png": "[encoded data removed]"
          },
          "metadata": {}
        }
      ]
    },
    {
      "cell_type": "code",
      "source": [
        "## Ensemble Valid ROC curve Precision Recall Curve\n",
        "\n",
        "fpr_e, tpr_e, thresholds = roc_curve(valid_y['SepsisLabel'], weighted_probs['probability'])\n",
        "roc_auc_e = auc(fpr_e, tpr_e)\n",
        "\n",
        "plt.figure()\n",
        "plt.plot(fpr_e, tpr_e, color='blue', lw=2, label=f'ROC curve (AUC = {roc_auc_e:.2f})')\n",
        "plt.plot([0, 1], [0, 1], color='gray', linestyle='--', lw=2)\n",
        "plt.xlim([0.0, 1.0])\n",
        "plt.ylim([0.0, 1.05])\n",
        "plt.xlabel('False Positive Rate')\n",
        "plt.ylabel('True Positive Rate')\n",
        "plt.title('Receiver Operating Characteristic (ROC) Curve')\n",
        "plt.suptitle('Ensemble Model')\n",
        "plt.legend(loc=\"lower right\")\n",
        "plt.show()\n",
        "\n",
        "\n",
        "pr_auc_e = auc(recalls_valid_e, precisions_valid_e)\n",
        "\n",
        "\n",
        "plt.figure()\n",
        "plt.plot(recalls_valid_e, precisions_valid_e, color='blue', lw=2, label=f'PR Curve (AUC = {pr_auc_e:.2f})')\n",
        "plt.xlabel('Recall')\n",
        "plt.ylabel('Precision')\n",
        "plt.title('Precision-Recall Curve')\n",
        "plt.suptitle('CNN-LSTM Model')\n",
        "plt.legend(loc=\"upper right\")\n",
        "plt.show()"
      ],
      "metadata": {
        "colab": {
          "base_uri": "https://localhost:8080/",
          "height": 997
        },
        "id": "EUZnLsdSjPoo",
        "outputId": "3c06e096-154f-4cdc-f934-d5ced3bbfffc"
      },
      "id": "EUZnLsdSjPoo",
      "execution_count": 160,
      "outputs": [
        {
          "output_type": "display_data",
          "data": {
            "text/plain": [
              "<Figure size 640x480 with 1 Axes>"
            ],
            "image/png": "[encoded data removed]"
          },
          "metadata": {}
        },
        {
          "output_type": "display_data",
          "data": {
            "text/plain": [
              "<Figure size 640x480 with 1 Axes>"
            ],
            "image/png": "[encoded data removed]"
          },
          "metadata": {}
        }
      ]
    },
    {
      "cell_type": "code",
      "source": [
        "## LightGBM Valid ROC curve\n",
        "\n",
        "fpr_gbm, tpr_gbm, thresholds = roc_curve(valid_y['SepsisLabel'], boostprobs['probability'])\n",
        "roc_auc_g = auc(fpr_gbm, tpr_gbm)\n",
        "\n",
        "plt.figure()\n",
        "plt.plot(fpr_gbm, tpr_gbm, color='green', lw=2, label=f'ROC curve (AUC = {roc_auc_g:.2f})')\n",
        "plt.plot([0, 1], [0, 1], color='gray', linestyle='--', lw=2)\n",
        "plt.xlim([0.0, 1.0])\n",
        "plt.ylim([0.0, 1.05])\n",
        "plt.xlabel('False Positive Rate')\n",
        "plt.ylabel('True Positive Rate')\n",
        "plt.title('Receiver Operating Characteristic (ROC) Curve')\n",
        "plt.suptitle('Light GBM Model')\n",
        "plt.legend(loc=\"lower right\")\n",
        "plt.show()\n",
        "\n",
        "\n",
        "\n",
        "\n",
        "pr_auc_g = auc(recalls_valid_g, precisions_valid_g)\n",
        "\n",
        "\n",
        "plt.figure()\n",
        "plt.plot(recalls_valid_g, precisions_valid_g, color='green', lw=2, label=f'PR Curve (AUC = {pr_auc_g:.2f})')\n",
        "plt.xlabel('Recall')\n",
        "plt.ylabel('Precision')\n",
        "plt.title('Precision-Recall Curve')\n",
        "plt.suptitle('Light GBM Model')\n",
        "plt.legend(loc=\"upper right\")\n",
        "plt.show()"
      ],
      "metadata": {
        "colab": {
          "base_uri": "https://localhost:8080/",
          "height": 997
        },
        "id": "YEuH6tRUrbK8",
        "outputId": "68444f89-bbbe-4743-df5e-bfec10c8ef01"
      },
      "id": "YEuH6tRUrbK8",
      "execution_count": 159,
      "outputs": [
        {
          "output_type": "display_data",
          "data": {
            "text/plain": [
              "<Figure size 640x480 with 1 Axes>"
            ],
            "image/png": "[encoded data removed]"
          },
          "metadata": {}
        },
        {
          "output_type": "display_data",
          "data": {
            "text/plain": [
              "<Figure size 640x480 with 1 Axes>"
            ],
            "image/png": "[encoded data removed]"
          },
          "metadata": {}
        }
      ]
    },
    {
      "cell_type": "code",
      "source": [
        "plt.figure()\n",
        "plt.plot(fpr_gbm, tpr_gbm, color='green', lw=2, label=f'ROC Curve LightGBM (AUC = {roc_auc_g:.2f})')\n",
        "plt.plot(fpr_c, tpr_c, color='red', lw=2, label=f'ROC Curve CNN-LSTM (AUC = {roc_auc_c:.2f})')\n",
        "plt.plot(fpr_e, tpr_e, color='blue', lw=2, label=f'ROC Curve Ensemble (AUC = {roc_auc_e:.2f})')\n",
        "plt.plot([0, 1], [0, 1], color='gray', linestyle='--', lw=2)\n",
        "plt.xlim([0.0, 1.0])\n",
        "plt.ylim([0.0, 1.05])\n",
        "plt.xlabel('False Positive Rate')\n",
        "plt.ylabel('True Positive Rate')\n",
        "plt.title('Receiver Operating Characteristic (ROC) Curve')\n",
        "plt.suptitle('All Models')\n",
        "plt.legend(loc=\"lower right\")\n",
        "plt.show()\n",
        "\n",
        "\n",
        "\n",
        "plt.figure()\n",
        "plt.plot(recalls_valid_g, precisions_valid_g, color='green', lw=2, label=f'PR Curve LightGBM (AUC = {pr_auc_g:.2f})')\n",
        "plt.plot(recalls_valid, precisions_valid, color='red', lw=2, label=f'PR Curve CNN-LSTM (AUC = {pr_auc_c:.2f})')\n",
        "plt.plot(recalls_valid_e, precisions_valid_e, color='blue', lw=2, label=f'PR Curve Ensemble (AUC = {pr_auc_e:.2f})')\n",
        "plt.xlabel('Recall')\n",
        "plt.ylabel('Precision')\n",
        "plt.title('Precision-Recall Curve')\n",
        "plt.suptitle('All Models')\n",
        "plt.legend(loc=\"upper right\")\n",
        "plt.show()"
      ],
      "metadata": {
        "colab": {
          "base_uri": "https://localhost:8080/",
          "height": 997
        },
        "id": "bSB8C8_eta1x",
        "outputId": "647cd42e-e54a-4fdf-e4ca-409a2c69ad8f"
      },
      "id": "bSB8C8_eta1x",
      "execution_count": 142,
      "outputs": [
        {
          "output_type": "display_data",
          "data": {
            "text/plain": [
              "<Figure size 640x480 with 1 Axes>"
            ],
            "image/png": "[encoded data removed]"
          },
          "metadata": {}
        },
        {
          "output_type": "display_data",
          "data": {
            "text/plain": [
              "<Figure size 640x480 with 1 Axes>"
            ],
            "image/png": "[encoded data removed]"
          },
          "metadata": {}
        }
      ]
    }
  ],
  "metadata": {
    "accelerator": "TPU",
    "colab": {
      "gpuType": "V28",
      "machine_shape": "hm",
      "provenance": []
    },
    "kernelspec": {
      "display_name": "Python 3",
      "name": "python3"
    },
    "language_info": {
      "codemirror_mode": {
        "name": "ipython",
        "version": 3
      },
      "file_extension": ".py",
      "mimetype": "text/x-python",
      "name": "python",
      "nbconvert_exporter": "python",
      "pygments_lexer": "ipython3",
      "version": "3.9.20"
    }
  },
  "nbformat": 4,
  "nbformat_minor": 5
}